{
 "cells": [
  {
   "cell_type": "code",
   "execution_count": 1,
   "id": "abd09c0c",
   "metadata": {},
   "outputs": [],
   "source": [
    "# Import Libraries\n",
    "import pandas as pd\n",
    "import os\n",
    "from langchain_ollama import OllamaEmbeddings\n",
    "from langchain_mongodb import MongoDBAtlasVectorSearch\n",
    "from dotenv import load_dotenv\n",
    "from langchain_core.documents import Document\n",
    "from pymongo import MongoClient\n",
    "from langchain_community.document_loaders import CSVLoader\n",
    "from langchain.text_splitter import RecursiveCharacterTextSplitter"
   ]
  },
  {
   "cell_type": "code",
   "execution_count": 2,
   "id": "e4416b0a",
   "metadata": {},
   "outputs": [],
   "source": [
    "#Load environment variables\n",
    "load_dotenv()\n",
    "MONGODB_URI = os.getenv(\"MONGODB_URI\")"
   ]
  },
  {
   "cell_type": "code",
   "execution_count": 3,
   "id": "9a25ab3e",
   "metadata": {},
   "outputs": [],
   "source": [
    "# Load CSV Dataset\n",
    "loader = CSVLoader(\n",
    "    file_path='../data/final_dataset_clean.csv',\n",
    "    content_columns=[\"answer\"],  # Kolom utama untuk konten\n",
    "    metadata_columns=[\"question\"],  # Metadata pertanyaan\n",
    "    csv_args={'delimiter': ','}\n",
    ")\n",
    "documents = loader.load()"
   ]
  },
  {
   "cell_type": "code",
   "execution_count": 4,
   "id": "8ef1cb50",
   "metadata": {},
   "outputs": [
    {
     "name": "stdout",
     "output_type": "stream",
     "text": [
      "Chunks dari faq menjadi 1210 sub-documents.\n"
     ]
    }
   ],
   "source": [
    "# Split Into Chunks\n",
    "text_splitter = RecursiveCharacterTextSplitter(\n",
    "    chunk_size=800,\n",
    "    chunk_overlap=120,\n",
    "    length_function=len\n",
    ")\n",
    "chunks = text_splitter.split_documents(documents)\n",
    "print(f\"Chunks dari faq menjadi {len(chunks)} sub-documents.\")"
   ]
  },
  {
   "cell_type": "code",
   "execution_count": 5,
   "id": "43d42c7b",
   "metadata": {},
   "outputs": [],
   "source": [
    "#initialize embeddings\n",
    "embeddings=OllamaEmbeddings(model=\"mxbai-embed-large\")"
   ]
  },
  {
   "cell_type": "code",
   "execution_count": 6,
   "id": "5b2397e3",
   "metadata": {},
   "outputs": [],
   "source": [
    "# MongoDB Connection\n",
    "client = MongoClient(MONGODB_URI)\n",
    "collection = client['finalproject_db']['faq_tb']"
   ]
  },
  {
   "cell_type": "code",
   "execution_count": 7,
   "id": "559b96f4",
   "metadata": {},
   "outputs": [],
   "source": [
    "# Vector Store Configuration\n",
    "vector_store = MongoDBAtlasVectorSearch(\n",
    "    collection=collection,\n",
    "    embedding=embeddings,\n",
    "    index_name='vector_index'\n",
    ")"
   ]
  },
  {
   "cell_type": "code",
   "execution_count": 8,
   "id": "c4a67b5f",
   "metadata": {},
   "outputs": [
    {
     "name": "stdout",
     "output_type": "stream",
     "text": [
      "Data berhasil diunggah ke MongoDB Atlas!\n",
      "Jumlah dokumen: 1075\n",
      "Jumlah chunks: 1210\n"
     ]
    }
   ],
   "source": [
    "# Vector Store Setup\n",
    "vector_store = MongoDBAtlasVectorSearch.from_documents(\n",
    "    documents=chunks,\n",
    "    embedding=embeddings,\n",
    "    collection=collection,\n",
    "    index_name=\"vector_index\"\n",
    ")\n",
    "\n",
    "print(\"Data berhasil diunggah ke MongoDB Atlas!\")\n",
    "print(f\"Jumlah dokumen: {len(documents)}\")\n",
    "print(f\"Jumlah chunks: {len(chunks)}\")"
   ]
  }
 ],
 "metadata": {
  "kernelspec": {
   "display_name": "h8_env",
   "language": "python",
   "name": "python3"
  },
  "language_info": {
   "codemirror_mode": {
    "name": "ipython",
    "version": 3
   },
   "file_extension": ".py",
   "mimetype": "text/x-python",
   "name": "python",
   "nbconvert_exporter": "python",
   "pygments_lexer": "ipython3",
   "version": "3.9.23"
  }
 },
 "nbformat": 4,
 "nbformat_minor": 5
}
