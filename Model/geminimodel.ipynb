{
 "cells": [
  {
   "cell_type": "code",
   "execution_count": 1,
   "id": "f5c9cb27",
   "metadata": {},
   "outputs": [],
   "source": [
    "# Import Library\n",
    "import pandas as pd\n",
    "import os\n",
    "import re\n",
    "import pymongo\n",
    "from pymongo import MongoClient\n",
    "from dotenv import load_dotenv\n",
    "from langchain_mongodb import MongoDBAtlasVectorSearch\n",
    "from langchain.prompts import PromptTemplate\n",
    "from langchain_google_genai import GoogleGenerativeAIEmbeddings, ChatGoogleGenerativeAI\n",
    "from langchain.chains import RetrievalQA"
   ]
  },
  {
   "cell_type": "code",
   "execution_count": 2,
   "id": "6e2e1bf9",
   "metadata": {},
   "outputs": [],
   "source": [
    "# Load Environment Variables\n",
    "load_dotenv(override=True)\n",
    "MONGODB_URI = os.getenv(\"MONGODB_URI\")\n",
    "GOOGLE_API_KEY = os.getenv(\"GOOGLE_API_KEY\") "
   ]
  },
  {
   "cell_type": "code",
   "execution_count": 3,
   "id": "7c3071f9",
   "metadata": {},
   "outputs": [],
   "source": [
    "# Initialize Google Embeddings\n",
    "embeddings = GoogleGenerativeAIEmbeddings(\n",
    "    model=\"models/embedding-001\",\n",
    "    google_api_key=GOOGLE_API_KEY\n",
    ")"
   ]
  },
  {
   "cell_type": "code",
   "execution_count": 4,
   "id": "efb427c4",
   "metadata": {},
   "outputs": [],
   "source": [
    "# Model Configuration dengan Gemini Pro\n",
    "llm_gemini = ChatGoogleGenerativeAI(\n",
    "    model=\"gemini-1.5-flash-latest\",\n",
    "    google_api_key=GOOGLE_API_KEY,\n",
    "    temperature=0,\n",
    "    max_tokens=1000,\n",
    "    convert_system_message_to_human=True # Diperlukan agar prompt sistem bekerja optimal\n",
    ")"
   ]
  },
  {
   "cell_type": "code",
   "execution_count": 5,
   "id": "af6b443d",
   "metadata": {},
   "outputs": [],
   "source": [
    "# MongoDB Connection\n",
    "client = MongoClient(MONGODB_URI)\n",
    "collection = client['chatbotproject_db']['faq_tb']\n",
    "index_name = 'vector_index'"
   ]
  },
  {
   "cell_type": "code",
   "execution_count": 6,
   "id": "e956661e",
   "metadata": {},
   "outputs": [],
   "source": [
    "# Vector Store Configuration\n",
    "vector_store = MongoDBAtlasVectorSearch(\n",
    "    collection=collection,\n",
    "    embedding=embeddings,\n",
    "    index_name='vector_index'\n",
    ")"
   ]
  },
  {
   "cell_type": "code",
   "execution_count": 7,
   "id": "2c8e887d",
   "metadata": {},
   "outputs": [],
   "source": [
    "# Chatbot Prompt Template\n",
    "BPJS_PROMPT = PromptTemplate(\n",
    "    input_variables=[\"context\", \"question\"],\n",
    "    template=\"\"\"\n",
    "    Anda adalah Asisten Digital Resmi BPJS Kesehatan dan BPJS Ketenagakerjaan.\n",
    "    Tugas Anda sebagai Customer Service adalah menjawab pertanyaan peserta berdasarkan data FAQ resmi yang telah disediakan.\n",
    "\n",
    "    Tanggung jawab utama:\n",
    "    - Memberikan jawaban yang akurat dan informatif sesuai dengan kategori FAQ BPJS Kesehatan dan BPJS Ketenagakerjaan.\n",
    "    - Menyampaikan informasi dengan bahasa yang profesional, jelas, dan mudah dipahami oleh seluruh lapisan masyarakat.\n",
    "    - Memberikan panduan teknis atau prosedur (jika diperlukan) dalam format langkah-langkah yang berurutan atau poin-poin.\n",
    "    - Menanggapi pertanyaan atau peserta dengan solusi yang relevan dari konteks FAQ yang tersedia.\n",
    "\n",
    "    Aturan jawaban:\n",
    "    1. Jawab hanya berdasarkan informasi yang tersedia dalam konteks FAQ resmi yang diberikan.\n",
    "    2. Jika pertanyaan tidak relevan atau tidak tercakup dalam FAQ, jawab dengan sopan: \"Mohon maaf, saya tidak memiliki informasi mengenai hal tersebut. Saya hanya dapat menjawab pertanyaan seputar layanan BPJS Kesehatan dan BPJS Ketenagakerjaan.\"\n",
    "    3. Jangan mengarang jawaban atau memberikan informasi di luar dokumen sumber.\n",
    "    4. Jangan mencantumkan link eksternal atau informasi promosi di luar konteks.\n",
    "    5. Gunakan format poin atau numerik bila menjelaskan prosedur atau langkah-langkah.\n",
    "\n",
    "    Konteks resmi (dari FAQ):\n",
    "    {context}\n",
    "\n",
    "    Pertanyaan Peserta: {question}\n",
    "\n",
    "    Jawaban Profesional:\n",
    "    \"\"\"\n",
    ")"
   ]
  },
  {
   "cell_type": "code",
   "execution_count": 8,
   "id": "a0088a59",
   "metadata": {},
   "outputs": [],
   "source": [
    "# RerievalQA Configuration\n",
    "qa = RetrievalQA.from_chain_type(\n",
    "    llm=llm_gemini,\n",
    "    chain_type=\"stuff\",\n",
    "    retriever=vector_store.as_retriever(\n",
    "        search_type=\"similarity\",\n",
    "        search_kwargs={\"k\": 5, \"score_treshold\":0.85 \n",
    "                       }  # Mengambil 5 dokumen teratas\n",
    "\n",
    "    ),\n",
    "    return_source_documents=True,\n",
    "    chain_type_kwargs={\"prompt\": BPJS_PROMPT}\n",
    ")\n",
    "\n",
    "# Cleaning Function\n",
    "def clean_answer(raw_answer):\n",
    "    \"\"\"Membersihkan jawaban dari referensi dan format khusus\"\"\"\n",
    "    # Format daftar bernomor\n",
    "    formatted = re.sub(r'(\\d+\\.)\\s', r'\\n\\1 ', raw_answer)\n",
    "    # Hapus karakter khusus\n",
    "    cleaned = re.sub(r'[*_]{2}', '', formatted)\n",
    "    return cleaned.strip()\n",
    "\n",
    "# Answer Function\n",
    "def ask(query):\n",
    "    try:\n",
    "        # Proses query langsung tanpa validasi awal\n",
    "        result = qa.invoke({\"query\": query})\n",
    "        if not result['source_documents']:\n",
    "            return \"Informasi tidak ditemukan dalam database resmi.\"\n",
    "        # Pembersihan jawaban akhir\n",
    "        return clean_answer(result['result'])\n",
    "\n",
    "    except Exception as e:\n",
    "        return f\"Terjadi kesalahan sistem: {str(e)}\\nSilakan coba lagi.\"\n",
    "\n",
    "# Answer from Document Function\n",
    "faq_df = pd.read_csv('final_dataset_clean.csv')\n",
    "def answer_from_doc(question):\n",
    "    row = faq_df[faq_df['question'].str.lower() == question.lower()]\n",
    "    if not row.empty:\n",
    "        return row.iloc[-1]['answer']\n",
    "    else:\n",
    "        return \"Tidak ada jawaban.\""
   ]
  },
  {
   "cell_type": "code",
   "execution_count": 9,
   "id": "5866a44d",
   "metadata": {},
   "outputs": [
    {
     "name": "stdout",
     "output_type": "stream",
     "text": [
      "\n",
      "\n",
      " UJI COBA 1: Pertanyaan yang Seharusnya Bisa Dijawab karena berasal dari dataset\n",
      "\n",
      "-----\n",
      "PERTANYAAN: Bagaimana cara menginstall aplikasi Jamsostek Mobile (JMO)?\n"
     ]
    },
    {
     "name": "stderr",
     "output_type": "stream",
     "text": [
      "c:\\Users\\MyBook Hype AMD\\miniconda3\\envs\\h8_env\\lib\\site-packages\\langchain_google_genai\\chat_models.py:483: UserWarning: Convert_system_message_to_human will be deprecated!\n",
      "  warnings.warn(\"Convert_system_message_to_human will be deprecated!\")\n"
     ]
    },
    {
     "name": "stdout",
     "output_type": "stream",
     "text": [
      "JAWABAN CHATBOT:\n",
      "Aplikasi Jamsostek Mobile (JMO) dapat diunduh dan diinstall melalui Play Store atau App Store bagi pengguna smartphone.\n",
      "\n",
      "-----\n",
      "\n",
      "--------------------------------------------------\n",
      "\n",
      "Jawaban Sebenarnya (dari dataset): Aplikasi Jamsostek Mobile (JMO) dapat diunduh dan diinstall melalui Playstore/ Appstore bagi pengguna smartphone .\n",
      "\n",
      "--------------------------------------------------\n",
      "\n",
      "-----\n",
      "PERTANYAAN: Bagaimana cara mengajukan klaim JHT melalui JMO jika memiliki lebih dari 1 kartu?\n"
     ]
    },
    {
     "name": "stderr",
     "output_type": "stream",
     "text": [
      "c:\\Users\\MyBook Hype AMD\\miniconda3\\envs\\h8_env\\lib\\site-packages\\langchain_google_genai\\chat_models.py:483: UserWarning: Convert_system_message_to_human will be deprecated!\n",
      "  warnings.warn(\"Convert_system_message_to_human will be deprecated!\")\n"
     ]
    },
    {
     "name": "stdout",
     "output_type": "stream",
     "text": [
      "JAWABAN CHATBOT:\n",
      "Untuk mengajukan klaim JHT melalui JMO dengan lebih dari 1 kartu BPJS Ketenagakerjaan, Anda perlu melakukan pengkinian data dan mengisi seluruh nomor kartu yang dimiliki agar saldo dapat digabung. Setelah saldo tergabung dalam satu kartu, Anda dapat melanjutkan proses klaim melalui menu Klaim JHT di aplikasi JMO.  Jika Anda tidak mengetahui nomor kartu BPJS Ketenagakerjaan Anda, silakan hubungi Layanan Masyarakat (Contact Center) 175, email ke care@bpjsketenagakerjaan.go.id, atau kunjungi kantor cabang terdekat untuk verifikasi dan informasi nomor kartu Anda.\n",
      "\n",
      "-----\n",
      "\n",
      "--------------------------------------------------\n",
      "\n",
      "Jawaban Sebenarnya (dari dataset): Tidak ada jawaban.\n",
      "\n",
      "--------------------------------------------------\n",
      "\n",
      "-----\n",
      "PERTANYAAN: Promo apa saja yang tersedia pada aplikasi Jamsostek Mobile (JMO)?\n"
     ]
    },
    {
     "name": "stderr",
     "output_type": "stream",
     "text": [
      "c:\\Users\\MyBook Hype AMD\\miniconda3\\envs\\h8_env\\lib\\site-packages\\langchain_google_genai\\chat_models.py:483: UserWarning: Convert_system_message_to_human will be deprecated!\n",
      "  warnings.warn(\"Convert_system_message_to_human will be deprecated!\")\n"
     ]
    },
    {
     "name": "stdout",
     "output_type": "stream",
     "text": [
      "JAWABAN CHATBOT:\n",
      "Promo yang tersedia di aplikasi Jamsostek Mobile (JMO) merupakan produk dari berbagai merchant yang bekerjasama dengan BPJS Ketenagakerjaan.\n",
      "\n",
      "-----\n",
      "\n",
      "--------------------------------------------------\n",
      "\n",
      "Jawaban Sebenarnya (dari dataset): Promo yang tersedia merupakan produk dari berbagai merchant yang bekerjasama dengan BPJS Ketenagakerjaan.\n",
      "\n",
      "--------------------------------------------------\n",
      "\n",
      "-----\n",
      "PERTANYAAN: Jika anggota baru di JMO, apakah harus mendaftar di MotionPay?\n"
     ]
    },
    {
     "name": "stderr",
     "output_type": "stream",
     "text": [
      "c:\\Users\\MyBook Hype AMD\\miniconda3\\envs\\h8_env\\lib\\site-packages\\langchain_google_genai\\chat_models.py:483: UserWarning: Convert_system_message_to_human will be deprecated!\n",
      "  warnings.warn(\"Convert_system_message_to_human will be deprecated!\")\n"
     ]
    },
    {
     "name": "stdout",
     "output_type": "stream",
     "text": [
      "JAWABAN CHATBOT:\n",
      "Pengguna baru JMO dapat mendaftar menggunakan fitur e-Wallet pada aplikasi JMO.  Anda tidak diharuskan mendaftar di MotionPay secara terpisah, namun untuk menghubungkan akun MotionPay dengan JMO, Anda perlu memiliki akun MotionPay terlebih dahulu.  Registrasi akun MotionPay dapat dilakukan melalui aplikasi JMO.\n",
      "\n",
      "-----\n",
      "\n",
      "--------------------------------------------------\n",
      "\n",
      "Jawaban Sebenarnya (dari dataset): Pengguna baru dapat mendaftar dengan mengakses fitur e-Wallet pada aplikasi JMO.\n",
      "\n",
      "--------------------------------------------------\n",
      "\n",
      "-----\n",
      "PERTANYAAN: Apakah itu Promo?\n"
     ]
    },
    {
     "name": "stderr",
     "output_type": "stream",
     "text": [
      "c:\\Users\\MyBook Hype AMD\\miniconda3\\envs\\h8_env\\lib\\site-packages\\langchain_google_genai\\chat_models.py:483: UserWarning: Convert_system_message_to_human will be deprecated!\n",
      "  warnings.warn(\"Convert_system_message_to_human will be deprecated!\")\n"
     ]
    },
    {
     "name": "stdout",
     "output_type": "stream",
     "text": [
      "JAWABAN CHATBOT:\n",
      "Mohon maaf, saya tidak memiliki informasi mengenai hal tersebut. Saya hanya dapat menjawab pertanyaan seputar layanan BPJS Kesehatan dan BPJS Ketenagakerjaan.\n",
      "\n",
      "-----\n",
      "\n",
      "--------------------------------------------------\n",
      "\n",
      "Jawaban Sebenarnya (dari dataset): Fitur promo ditujukan kepada peserta BPJS Ketenagakerjaan untuk mendapatkan diskon dan penawaran menarik\n",
      "\n",
      "--------------------------------------------------\n",
      "\n",
      "-----\n",
      "PERTANYAAN: Apakah itu MotionPay?\n"
     ]
    },
    {
     "name": "stderr",
     "output_type": "stream",
     "text": [
      "c:\\Users\\MyBook Hype AMD\\miniconda3\\envs\\h8_env\\lib\\site-packages\\langchain_google_genai\\chat_models.py:483: UserWarning: Convert_system_message_to_human will be deprecated!\n",
      "  warnings.warn(\"Convert_system_message_to_human will be deprecated!\")\n"
     ]
    },
    {
     "name": "stdout",
     "output_type": "stream",
     "text": [
      "JAWABAN CHATBOT:\n",
      "MotionPay adalah aplikasi uang elektronik milik PT. MNC Teknologi Nusantara.\n",
      "\n",
      "-----\n",
      "\n",
      "--------------------------------------------------\n",
      "\n",
      "Jawaban Sebenarnya (dari dataset): Aplikasi uang elektronik milik PT. MNC Teknologi Nusantara.\n",
      "\n",
      "--------------------------------------------------\n",
      "\n",
      "-----\n",
      "PERTANYAAN: Bagaimana jika lupa PIN EPS?\n"
     ]
    },
    {
     "name": "stderr",
     "output_type": "stream",
     "text": [
      "c:\\Users\\MyBook Hype AMD\\miniconda3\\envs\\h8_env\\lib\\site-packages\\langchain_google_genai\\chat_models.py:483: UserWarning: Convert_system_message_to_human will be deprecated!\n",
      "  warnings.warn(\"Convert_system_message_to_human will be deprecated!\")\n"
     ]
    },
    {
     "name": "stdout",
     "output_type": "stream",
     "text": [
      "JAWABAN CHATBOT:\n",
      "Pada laman login EPS terdapat fitur \"Lupa PIN\".  Silakan masukkan alamat email yang terdaftar untuk menerima PIN baru melalui email tersebut.\n",
      "\n",
      "-----\n",
      "\n",
      "--------------------------------------------------\n",
      "\n",
      "Jawaban Sebenarnya (dari dataset): Pada laman login EPS terdapat fitur \"Lupa PIN\", input Email user untuk dikirimkan kembali PIN melalui Email yang terdaftar.\n",
      "\n",
      "--------------------------------------------------\n",
      "\n",
      "-----\n",
      "PERTANYAAN: Apakah sandi/PIN harus diubah secara berkala di kedua aplikasi?\n"
     ]
    },
    {
     "name": "stderr",
     "output_type": "stream",
     "text": [
      "c:\\Users\\MyBook Hype AMD\\miniconda3\\envs\\h8_env\\lib\\site-packages\\langchain_google_genai\\chat_models.py:483: UserWarning: Convert_system_message_to_human will be deprecated!\n",
      "  warnings.warn(\"Convert_system_message_to_human will be deprecated!\")\n"
     ]
    },
    {
     "name": "stdout",
     "output_type": "stream",
     "text": [
      "JAWABAN CHATBOT:\n",
      "Ya, untuk keamanan dan kenyamanan pengguna, sandi/PIN harus diubah secara berkala di kedua aplikasi BPJS Kesehatan dan BPJS Ketenagakerjaan.\n",
      "\n",
      "-----\n",
      "\n",
      "--------------------------------------------------\n",
      "\n",
      "Jawaban Sebenarnya (dari dataset): Untuk keamanan dan kenyamanan pengguna, maka sandi/PIN harus diubah secara berkala di kedua aplikasi.\n",
      "\n",
      "--------------------------------------------------\n",
      "\n",
      "-----\n",
      "PERTANYAAN: Dokumen apa sajakah persyaratan mengajukan JHT bagi PMI yang berpindah menjadi Warga Negara Asing?\n"
     ]
    },
    {
     "name": "stderr",
     "output_type": "stream",
     "text": [
      "c:\\Users\\MyBook Hype AMD\\miniconda3\\envs\\h8_env\\lib\\site-packages\\langchain_google_genai\\chat_models.py:483: UserWarning: Convert_system_message_to_human will be deprecated!\n",
      "  warnings.warn(\"Convert_system_message_to_human will be deprecated!\")\n"
     ]
    },
    {
     "name": "stdout",
     "output_type": "stream",
     "text": [
      "JAWABAN CHATBOT:\n",
      "Persyaratan mengajukan JHT bagi PMI yang berpindah menjadi Warga Negara Asing adalah:\n",
      "\n",
      "\n",
      "1. Formulir pengajuan manfaat JHT.\n",
      "\n",
      "2. Kartu Peserta BPJS Ketenagakerjaan.\n",
      "\n",
      "3. Surat pindah kewarganegaraan dari instansi yang berwenang dan/atau bukti identitas sebagai warga negara asing.\n",
      "\n",
      "4. Rekening tabungan atas nama PMI.\n",
      "\n",
      "-----\n",
      "\n",
      "--------------------------------------------------\n",
      "\n",
      "Jawaban Sebenarnya (dari dataset): Peserta mengajukan permohonan pembayaran manfaat program JHT menggunakan formulir pengajuan manfaat dengan melampirkan persyaratan sebagai berikut:, Kartu Peserta BPJS Ketenagakerjaan; surat pindah kewarganegaraan dari instansi yang berwenang dan/atau bukti identitas sebagai warga negara asing; dan rekening tabungan atas nama PMI.\n",
      "\n",
      "--------------------------------------------------\n",
      "\n",
      "-----\n",
      "PERTANYAAN: Promo apa saja yang tersedia pada aplikasi Jamsostek Mobile (JMO)?\n"
     ]
    },
    {
     "name": "stderr",
     "output_type": "stream",
     "text": [
      "c:\\Users\\MyBook Hype AMD\\miniconda3\\envs\\h8_env\\lib\\site-packages\\langchain_google_genai\\chat_models.py:483: UserWarning: Convert_system_message_to_human will be deprecated!\n",
      "  warnings.warn(\"Convert_system_message_to_human will be deprecated!\")\n"
     ]
    },
    {
     "name": "stdout",
     "output_type": "stream",
     "text": [
      "JAWABAN CHATBOT:\n",
      "Promo yang tersedia di aplikasi Jamsostek Mobile (JMO) merupakan produk dari berbagai merchant yang bekerjasama dengan BPJS Ketenagakerjaan.\n",
      "\n",
      "-----\n",
      "\n",
      "--------------------------------------------------\n",
      "\n",
      "Jawaban Sebenarnya (dari dataset): Promo yang tersedia merupakan produk dari berbagai merchant yang bekerjasama dengan BPJS Ketenagakerjaan.\n",
      "\n",
      "--------------------------------------------------\n",
      "\n",
      "-----\n",
      "PERTANYAAN: Apa itu BPJS Ketenagakerjaan?\n"
     ]
    },
    {
     "name": "stderr",
     "output_type": "stream",
     "text": [
      "c:\\Users\\MyBook Hype AMD\\miniconda3\\envs\\h8_env\\lib\\site-packages\\langchain_google_genai\\chat_models.py:483: UserWarning: Convert_system_message_to_human will be deprecated!\n",
      "  warnings.warn(\"Convert_system_message_to_human will be deprecated!\")\n"
     ]
    },
    {
     "name": "stdout",
     "output_type": "stream",
     "text": [
      "JAWABAN CHATBOT:\n",
      "BPJS Ketenagakerjaan adalah badan hukum publik yang bertanggung jawab atas penyelenggaraan program jaminan sosial ketenagakerjaan di Indonesia.  Program ini memberikan perlindungan kepada pekerja/buruh dan keluarganya dari risiko kecelakaan kerja, kematian, hari tua, dan kehilangan pekerjaan.\n",
      "\n",
      "-----\n",
      "\n",
      "--------------------------------------------------\n",
      "\n",
      "Jawaban Sebenarnya (dari dataset): BPJS Ketenagakerjaan adalah badan hukum yang dibentuk untuk menyelenggarakan program Jaminan Kecelakaan Kerja, Jaminan Hari Tua, Jaminan Pensiun, Jaminan Kematian dan Jaminan Kehilangan Pekerjaan yang bertujuan untuk memberikan perlindungan paripurna kepada seluruh pekerja di Indonesia.\n",
      "\n",
      "--------------------------------------------------\n",
      "\n",
      "-----\n",
      "PERTANYAAN: Apa saja program BPJS Ketenagakerjaan?\n"
     ]
    },
    {
     "name": "stderr",
     "output_type": "stream",
     "text": [
      "c:\\Users\\MyBook Hype AMD\\miniconda3\\envs\\h8_env\\lib\\site-packages\\langchain_google_genai\\chat_models.py:483: UserWarning: Convert_system_message_to_human will be deprecated!\n",
      "  warnings.warn(\"Convert_system_message_to_human will be deprecated!\")\n"
     ]
    },
    {
     "name": "stdout",
     "output_type": "stream",
     "text": [
      "JAWABAN CHATBOT:\n",
      "Program BPJS Ketenagakerjaan terdiri dari lima program, yaitu:\n",
      "\n",
      "\n",
      "1. Jaminan Kecelakaan Kerja (JKK)\n",
      "\n",
      "2. Jaminan Hari Tua (JHT)\n",
      "\n",
      "3. Jaminan Pensiun (JP)\n",
      "\n",
      "4. Jaminan Kematian (JKM)\n",
      "\n",
      "5. Jaminan Kehilangan Pekerjaan (JKP)\n",
      "\n",
      "-----\n",
      "\n",
      "--------------------------------------------------\n",
      "\n",
      "Jawaban Sebenarnya (dari dataset): Program yang diselenggarakan oleh BPJS Ketenagakerjaan terdiri dari 5 (lima) program, yaitu Jaminan Kecelakaan, Jaminan Hari Tua, Jaminan Pensiun, Jaminan Kematian dan dan Jaminan Kehilangan Pekerjaan.\n",
      "\n",
      "--------------------------------------------------\n",
      "\n",
      "-----\n",
      "PERTANYAAN: Siapakah yang dimaksud peserta BPJS Ketenagakerjaan?\n"
     ]
    },
    {
     "name": "stderr",
     "output_type": "stream",
     "text": [
      "c:\\Users\\MyBook Hype AMD\\miniconda3\\envs\\h8_env\\lib\\site-packages\\langchain_google_genai\\chat_models.py:483: UserWarning: Convert_system_message_to_human will be deprecated!\n",
      "  warnings.warn(\"Convert_system_message_to_human will be deprecated!\")\n"
     ]
    },
    {
     "name": "stdout",
     "output_type": "stream",
     "text": [
      "JAWABAN CHATBOT:\n",
      "Peserta BPJS Ketenagakerjaan adalah seluruh pekerja/buruh di Indonesia, baik yang bekerja di sektor formal maupun informal, serta pekerja migran Indonesia yang bekerja di luar negeri.\n",
      "\n",
      "-----\n",
      "\n",
      "--------------------------------------------------\n",
      "\n",
      "Jawaban Sebenarnya (dari dataset): Program yang diselenggarakan oleh BPJS Ketenagakerjaan terdiri dari 5 (lima) program, yaitu Jaminan Kecelakaan, Jaminan Hari Tua, Jaminan Pensiun, Jaminan Kematian dan dan Jaminan Kehilangan Pekerjaan., Peserta BPJS Ketenagakerjaan terdiri dari:, Peserta Penerima Upah yang meliputi: Pekerja yang bekerja pada Pemberi Kerja penyelenggara negara meliputi: Pegawai pemerintah non-pegawai negeri Pejabat negara non-aparatur sipil negara dan Pegawai non-aparatur sipil negara pada lembaga tinggi negara atau lembaga negara. Pekerja yang bekerja pada Pemberi Kerja selain Penyelenggara Negara meliputi: Pekerja pada perusahaan Pekerja pada orang perseorangan Orang asing yang bekerja di Indonesia paling singkat 6 (enam) bulan Pekerja dalam masa percobaan Komisaris dan direksi yang menerima upah dan Pengawas dan pengurus yang menerima upah. Peserta Bukan Penerima Upah yang meliputi: Pemberi kerja Pekerja di luar hubungan kerja atau pekerja mandiri Pekerja yang tidak termasuk huruf b. yang bukan menerima upah. Pekerja Migran Indonesia adalah setiap warga negara Indonesia yang akan, sedang, atau telah melakukan pekerjaan dengan menerima upah di luar wilayah Republik Indonesia. Peserta Sektor Jasa Konstruksi meliputi Pekerja harian lepas, borongan, dan perjanjian kerja waktu tertentu di sektor Jasa Konstruksi.\n",
      "\n",
      "--------------------------------------------------\n",
      "\n",
      "-----\n",
      "PERTANYAAN: Apakah yang dimaksud dengan PHK?\n"
     ]
    },
    {
     "name": "stderr",
     "output_type": "stream",
     "text": [
      "c:\\Users\\MyBook Hype AMD\\miniconda3\\envs\\h8_env\\lib\\site-packages\\langchain_google_genai\\chat_models.py:483: UserWarning: Convert_system_message_to_human will be deprecated!\n",
      "  warnings.warn(\"Convert_system_message_to_human will be deprecated!\")\n"
     ]
    },
    {
     "name": "stdout",
     "output_type": "stream",
     "text": [
      "JAWABAN CHATBOT:\n",
      "Pengakhiran hubungan kerja karena suatu hal tertentu yang mengakibatkan berakhirnya hak dan kewajiban antara Pekerja/Buruh dan Pengusaha.\n",
      "\n",
      "-----\n",
      "\n",
      "--------------------------------------------------\n",
      "\n",
      "Jawaban Sebenarnya (dari dataset): Pengakhiran hubungan kerja karena suatu hal tertentu yang mengakibatkan berakhirnya hak dan kewajiban antara Pekerja/Buruh dan Pengusaha.\n",
      "\n",
      "--------------------------------------------------\n",
      "\n",
      "-----\n",
      "PERTANYAAN: Apakah pegawai BHL (Buruh Harian Lepas) dapat mengikuti program JKP\n"
     ]
    },
    {
     "name": "stderr",
     "output_type": "stream",
     "text": [
      "c:\\Users\\MyBook Hype AMD\\miniconda3\\envs\\h8_env\\lib\\site-packages\\langchain_google_genai\\chat_models.py:483: UserWarning: Convert_system_message_to_human will be deprecated!\n",
      "  warnings.warn(\"Convert_system_message_to_human will be deprecated!\")\n"
     ]
    },
    {
     "name": "stdout",
     "output_type": "stream",
     "text": [
      "JAWABAN CHATBOT:\n",
      "Berdasarkan informasi yang tersedia, setiap Pekerja dengan status PKWT (Perjanjian Kerja Waktu Tertentu) maupun PKWTT (Perjanjian Kerja Waktu Tidak Tertentu) yang memenuhi eligibilitas dapat menjadi peserta program JKP.  Hal ini sesuai dengan PP 37 tahun 2021 pasal 1 yang menyatakan bahwa peserta Program JKP adalah Pekerja/Buruh yang mempunyai hubungan kerja dan menerima upah atau imbalan bentuk lainnya.  Status sebagai Buruh Harian Lepas (BHL) perlu dipertimbangkan dalam konteks apakah memenuhi kriteria \"mempunyai hubungan kerja dan menerima upah atau imbalan bentuk lainnya\".\n",
      "\n",
      "-----\n",
      "\n",
      "--------------------------------------------------\n",
      "\n",
      "Jawaban Sebenarnya (dari dataset): Tidak ada jawaban.\n",
      "\n",
      "--------------------------------------------------\n",
      "\n",
      "-----\n",
      "PERTANYAAN: Bagaimana caranya badan usaha/pemberi kerja dapat menggunakan layanan Payment Reminder System(PRS)?\n"
     ]
    },
    {
     "name": "stderr",
     "output_type": "stream",
     "text": [
      "c:\\Users\\MyBook Hype AMD\\miniconda3\\envs\\h8_env\\lib\\site-packages\\langchain_google_genai\\chat_models.py:483: UserWarning: Convert_system_message_to_human will be deprecated!\n",
      "  warnings.warn(\"Convert_system_message_to_human will be deprecated!\")\n"
     ]
    },
    {
     "name": "stdout",
     "output_type": "stream",
     "text": [
      "JAWABAN CHATBOT:\n",
      "Layanan Payment Reminder System (PRS) akan mengirimkan pengingat tagihan iuran dan piutang melalui SMS dan email secara otomatis dan terjadwal setiap awal bulan.  Pengingat ini akan dikirimkan ke nomor handphone contact person (PIC) yang terdaftar di database BPJS Ketenagakerjaan.  Untuk menggunakan fitur pembukuan (rekonsiliasi) otomatis melalui PRS, balas SMS PRS sesuai format yang tertera di SMS tersebut. Pastikan pembayaran sudah dilakukan sebelum membalas SMS.\n",
      "\n",
      "-----\n",
      "\n",
      "--------------------------------------------------\n",
      "\n",
      "Jawaban Sebenarnya (dari dataset): Untuk menggunakan layanan Payment Reminder System (PRS) setiap bulannya, badan usaha/pemberi kerja dapat mendaftar melalui Petugas BPJS Ketenagakerjaan Kantor Cabang kepesertaan dengan menandatangani formulir pendaftaran PRS dan dipastikan menggunakan nomor handphone yang valid dan jika terjadi perubahan nomor handphone harap dilaporkan ke Petugas BPJS Ketenagakerjaan Kantor Cabang kepesertaan.\n",
      "\n",
      "--------------------------------------------------\n",
      "\n",
      "-----\n",
      "PERTANYAAN: Peserta BPU sudah melakukan pembayaran iuran namun transaksi pembayaran iuran belum merubah masa perlindungan/saldo JHT belum bertambah, apakah yang harus dilakukan?\n"
     ]
    },
    {
     "name": "stderr",
     "output_type": "stream",
     "text": [
      "c:\\Users\\MyBook Hype AMD\\miniconda3\\envs\\h8_env\\lib\\site-packages\\langchain_google_genai\\chat_models.py:483: UserWarning: Convert_system_message_to_human will be deprecated!\n",
      "  warnings.warn(\"Convert_system_message_to_human will be deprecated!\")\n"
     ]
    },
    {
     "name": "stdout",
     "output_type": "stream",
     "text": [
      "JAWABAN CHATBOT:\n",
      "Peserta dapat menunjukkan tanda bukti pembayaran dari kanal pembayaran iuran tempat transaksi dilakukan.  Laporan tersebut akan ditindaklanjuti segera oleh tim BPJS Ketenagakerjaan.\n",
      "\n",
      "-----\n",
      "\n",
      "--------------------------------------------------\n",
      "\n",
      "Jawaban Sebenarnya (dari dataset): Peserta dapat menunjukkan tanda bukti pembayaran dari kanal pembayaran iuran dimana Peserta melakukan transaksi pembayaran iuran. Selanjutnya laporan akan ditindaklanjuti segera oleh tim BPJS Ketenagakerjaan.\n",
      "\n",
      "--------------------------------------------------\n",
      "\n",
      "-----\n",
      "PERTANYAAN: Apakah aplikasi Electronic Payment System (EPS)?\n"
     ]
    },
    {
     "name": "stderr",
     "output_type": "stream",
     "text": [
      "c:\\Users\\MyBook Hype AMD\\miniconda3\\envs\\h8_env\\lib\\site-packages\\langchain_google_genai\\chat_models.py:483: UserWarning: Convert_system_message_to_human will be deprecated!\n",
      "  warnings.warn(\"Convert_system_message_to_human will be deprecated!\")\n"
     ]
    },
    {
     "name": "stdout",
     "output_type": "stream",
     "text": [
      "JAWABAN CHATBOT:\n",
      "Electronic Payment System (EPS) adalah sistem pembayaran iuran BPJS Ketenagakerjaan secara *Host to Host* antara perbankan dengan BPJS Ketenagakerjaan.  EPS disediakan untuk memudahkan perusahaan peserta dalam melakukan monitoring pembayaran iuran.\n",
      "\n",
      "-----\n",
      "\n",
      "--------------------------------------------------\n",
      "\n",
      "Jawaban Sebenarnya (dari dataset): Electronic Payment System (EPS), adalah sistem pembayaran iuran BPJS Ketenagakerjaan secara Host to Host antara perbankan dengan BPJS Ketenagakerjaan. EPS disediakan untuk memudahkan perusahaan peserta dalam melakukan monitoring pembayaran iuran.\n",
      "\n",
      "--------------------------------------------------\n",
      "\n",
      "-----\n",
      "PERTANYAAN: Apa perbedaan program Jaminan Hari Tua (JHT) dan Jaminan Pensiun (JP)?\n"
     ]
    },
    {
     "name": "stderr",
     "output_type": "stream",
     "text": [
      "c:\\Users\\MyBook Hype AMD\\miniconda3\\envs\\h8_env\\lib\\site-packages\\langchain_google_genai\\chat_models.py:483: UserWarning: Convert_system_message_to_human will be deprecated!\n",
      "  warnings.warn(\"Convert_system_message_to_human will be deprecated!\")\n"
     ]
    },
    {
     "name": "stdout",
     "output_type": "stream",
     "text": [
      "JAWABAN CHATBOT:\n",
      "Mohon maaf, informasi detail mengenai perbedaan program Jaminan Hari Tua (JHT) dan Jaminan Pensiun (JP) tidak tersedia di dalam FAQ yang diberikan.  FAQ hanya menyebutkan adanya Tabel 10 yang menjelaskan perbedaan tersebut, namun tabel tersebut tidak disertakan.  Oleh karena itu, saya tidak dapat memberikan jawaban yang akurat mengenai perbedaan JHT dan JP.\n",
      "\n",
      "-----\n",
      "\n",
      "--------------------------------------------------\n",
      "\n",
      "Jawaban Sebenarnya (dari dataset): Ditinjau dari manfaatnya, JHT merupakan manfaat uang tunai yang dibayarkan sekaligus pada saat pekerja memasuki usia pensiun, meninggal dunia, atau mengalami cacat total tetap., , Sedangkan manfaat JP adalah manfaat uang tunai yang dibayarkan setiap bulan kepada peserta yang memasuki usia pensiun, mengalami cacat total tetap, atau kepada Ahli Waris bagi peserta yang meninggal dunia., , Usia pensiun yang ditetapkan pertama kali adalah 56 tahun. Mulai 1 Januari 2019, usia pensiun bertambah menjadi 57 tahun. Usia pensiun dimaksud selanjutnya bertambah 1 (satu) tahun untuk setiap 3 (tiga) tahun berikutnya sampai mencapai usia pensiun maksimal 65 tahun.\n",
      "\n",
      "--------------------------------------------------\n",
      "\n",
      "-----\n",
      "PERTANYAAN: Apa saja pelayanan BPJS Kesehatan yang dapat dimanfaatkan?\n"
     ]
    },
    {
     "name": "stderr",
     "output_type": "stream",
     "text": [
      "c:\\Users\\MyBook Hype AMD\\miniconda3\\envs\\h8_env\\lib\\site-packages\\langchain_google_genai\\chat_models.py:483: UserWarning: Convert_system_message_to_human will be deprecated!\n",
      "  warnings.warn(\"Convert_system_message_to_human will be deprecated!\")\n"
     ]
    },
    {
     "name": "stdout",
     "output_type": "stream",
     "text": [
      "JAWABAN CHATBOT:\n",
      "Pelayanan BPJS Kesehatan yang dapat dimanfaatkan meliputi:  (Mohon maaf, detail pelayanan tidak tersedia di FAQ yang diberikan.  FAQ hanya menanyakan \"Apa saja pelayanan BPJS Kesehatan yang dapat dimanfaatkan?\" tanpa memberikan rinciannya.)\n",
      "\n",
      "-----\n",
      "\n",
      "--------------------------------------------------\n",
      "\n",
      "Jawaban Sebenarnya (dari dataset): Tidak ada jawaban.\n",
      "\n",
      "--------------------------------------------------\n",
      "\n",
      "-----\n",
      "PERTANYAAN: Bagaimana Mendaftarkan Bayi Baru Lahir?\n"
     ]
    },
    {
     "name": "stderr",
     "output_type": "stream",
     "text": [
      "c:\\Users\\MyBook Hype AMD\\miniconda3\\envs\\h8_env\\lib\\site-packages\\langchain_google_genai\\chat_models.py:483: UserWarning: Convert_system_message_to_human will be deprecated!\n",
      "  warnings.warn(\"Convert_system_message_to_human will be deprecated!\")\n"
     ]
    },
    {
     "name": "stdout",
     "output_type": "stream",
     "text": [
      "JAWABAN CHATBOT:\n",
      "Mohon maaf, saya tidak memiliki informasi mengenai pendaftaran bayi baru lahir dalam konteks FAQ yang diberikan. Saya hanya dapat menjawab pertanyaan seputar layanan BPJS Kesehatan dan BPJS Ketenagakerjaan yang tercantum dalam FAQ tersebut.  FAQ yang tersedia hanya mencakup pertanyaan mengenai denda dan ketentuan penjamin kaca mata,  bukan mengenai pendaftaran bayi baru lahir.\n",
      "\n",
      "-----\n",
      "\n",
      "--------------------------------------------------\n",
      "\n",
      "Jawaban Sebenarnya (dari dataset): Tidak ada jawaban.\n",
      "\n",
      "--------------------------------------------------\n",
      "\n",
      "-----\n",
      "PERTANYAAN: Apa itu GRC?\n"
     ]
    },
    {
     "name": "stderr",
     "output_type": "stream",
     "text": [
      "c:\\Users\\MyBook Hype AMD\\miniconda3\\envs\\h8_env\\lib\\site-packages\\langchain_google_genai\\chat_models.py:483: UserWarning: Convert_system_message_to_human will be deprecated!\n",
      "  warnings.warn(\"Convert_system_message_to_human will be deprecated!\")\n"
     ]
    },
    {
     "name": "stdout",
     "output_type": "stream",
     "text": [
      "JAWABAN CHATBOT:\n",
      "Mohon maaf, saya tidak memiliki informasi mengenai GRC berdasarkan FAQ yang diberikan. Saya hanya dapat menjawab pertanyaan seputar layanan BPJS Kesehatan dan BPJS Ketenagakerjaan yang tercantum dalam FAQ tersebut.\n",
      "\n",
      "-----\n",
      "\n",
      "--------------------------------------------------\n",
      "\n",
      "Jawaban Sebenarnya (dari dataset): Tidak ada jawaban.\n",
      "\n",
      "--------------------------------------------------\n",
      "\n",
      "-----\n",
      "PERTANYAAN: Cara Membayar Iuran\n"
     ]
    },
    {
     "name": "stderr",
     "output_type": "stream",
     "text": [
      "c:\\Users\\MyBook Hype AMD\\miniconda3\\envs\\h8_env\\lib\\site-packages\\langchain_google_genai\\chat_models.py:483: UserWarning: Convert_system_message_to_human will be deprecated!\n",
      "  warnings.warn(\"Convert_system_message_to_human will be deprecated!\")\n"
     ]
    },
    {
     "name": "stdout",
     "output_type": "stream",
     "text": [
      "JAWABAN CHATBOT:\n",
      "Mohon maaf, pertanyaan \"Cara Membayar Iuran\"  terlalu umum.  Untuk menjawab pertanyaan Anda dengan akurat, saya perlu informasi lebih spesifik mengenai jenis iuran yang dimaksud (BPJS Kesehatan atau BPJS Ketenagakerjaan) dan metode pembayaran yang ingin Anda ketahui.  FAQ hanya mencantumkan pertanyaan \"Cara Membayar Iuran\" tanpa penjelasan lebih lanjut.  Untuk informasi lebih detail, silakan kunjungi website resmi BPJS Kesehatan atau BPJS Ketenagakerjaan, atau hubungi call center kami.\n",
      "\n",
      "-----\n",
      "\n",
      "--------------------------------------------------\n",
      "\n",
      "Jawaban Sebenarnya (dari dataset): Pembayaran iuran bagi peserta dapat dilakukan dengan tahapan sebagai berikut I. Peserta dan calon peserta PBPU Kelas I dan II wajib menggunakan fasilitas pembayaran auto debit banknon bank. II. Peserta melakukan registrasi autodebet melalui a. Kantor BPJS Kesehatan dengan mengisi form autodebit yang tersedia dengan melengkapi persyaratan pendaftaran berupa Fotocopy Kartu KeluargaKTP dan Buku Rekening b. Kanal Online seperti Mobile JKN Website BPJS Kesehatan Kanal Bank Aplikasi E-Commerce USSD III. Iuran pertama peserta akan otomatis terdebit pada periode tanggal 5 atau tanggal 20 setiap bulannya IV. Untuk kelancaran proses pendaftaran Autodebit pada Bank Pastikan Nomor Telepon yang digunakan benar atau sesuai dengan Nomoor Telepon yang digunakan saat pembukaan rekening di Bank untuk menerima Pin OTP dan pastikan memiliki saldo pulsa.\n",
      "\n",
      "--------------------------------------------------\n",
      "\n",
      "-----\n",
      "PERTANYAAN: Apa saja pelayanan BPJS Kesehatan yang dapat dimanfaatkan?\n"
     ]
    },
    {
     "name": "stderr",
     "output_type": "stream",
     "text": [
      "c:\\Users\\MyBook Hype AMD\\miniconda3\\envs\\h8_env\\lib\\site-packages\\langchain_google_genai\\chat_models.py:483: UserWarning: Convert_system_message_to_human will be deprecated!\n",
      "  warnings.warn(\"Convert_system_message_to_human will be deprecated!\")\n"
     ]
    },
    {
     "name": "stdout",
     "output_type": "stream",
     "text": [
      "JAWABAN CHATBOT:\n",
      "Pelayanan BPJS Kesehatan yang dapat dimanfaatkan meliputi:  (Mohon maaf, detail pelayanan tidak tersedia di FAQ yang diberikan.  FAQ hanya menanyakan \"Apa saja pelayanan BPJS Kesehatan yang dapat dimanfaatkan?\" tanpa memberikan rinciannya.)\n",
      "\n",
      "-----\n",
      "\n",
      "--------------------------------------------------\n",
      "\n",
      "Jawaban Sebenarnya (dari dataset): Tidak ada jawaban.\n",
      "\n",
      "--------------------------------------------------\n",
      "\n",
      "-----\n",
      "PERTANYAAN: Kapan pembayaran iuran paling lambat?\n"
     ]
    },
    {
     "name": "stderr",
     "output_type": "stream",
     "text": [
      "c:\\Users\\MyBook Hype AMD\\miniconda3\\envs\\h8_env\\lib\\site-packages\\langchain_google_genai\\chat_models.py:483: UserWarning: Convert_system_message_to_human will be deprecated!\n",
      "  warnings.warn(\"Convert_system_message_to_human will be deprecated!\")\n"
     ]
    },
    {
     "name": "stdout",
     "output_type": "stream",
     "text": [
      "JAWABAN CHATBOT:\n",
      "Pembayaran iuran paling lambat tanggal 10 (sepuluh) setiap bulan.\n",
      "\n",
      "-----\n",
      "\n",
      "--------------------------------------------------\n",
      "\n",
      "Jawaban Sebenarnya (dari dataset): Tidak ada jawaban.\n",
      "\n",
      "--------------------------------------------------\n",
      "\n",
      "-----\n",
      "PERTANYAAN: Bagaimana komitmen BPJS Kesehatan terkait gratifikasi?\n"
     ]
    },
    {
     "name": "stderr",
     "output_type": "stream",
     "text": [
      "c:\\Users\\MyBook Hype AMD\\miniconda3\\envs\\h8_env\\lib\\site-packages\\langchain_google_genai\\chat_models.py:483: UserWarning: Convert_system_message_to_human will be deprecated!\n",
      "  warnings.warn(\"Convert_system_message_to_human will be deprecated!\")\n"
     ]
    },
    {
     "name": "stdout",
     "output_type": "stream",
     "text": [
      "JAWABAN CHATBOT:\n",
      "Mohon maaf, saya tidak memiliki informasi mengenai hal tersebut. Saya hanya dapat menjawab pertanyaan seputar layanan BPJS Kesehatan dan BPJS Ketenagakerjaan berdasarkan FAQ yang tersedia.  FAQ yang tersedia tidak memuat informasi mengenai komitmen BPJS Kesehatan terkait gratifikasi.\n",
      "\n",
      "-----\n",
      "\n",
      "--------------------------------------------------\n",
      "\n",
      "Jawaban Sebenarnya (dari dataset): Tidak ada jawaban.\n",
      "\n",
      "--------------------------------------------------\n"
     ]
    }
   ],
   "source": [
    "# TEST CASE 1: Pertanyaan di dalam konteks (formal dan informal)\n",
    "print(\"\\n\\n UJI COBA 1: Pertanyaan yang Seharusnya Bisa Dijawab karena berasal dari dataset\")\n",
    "questions = [\n",
    "    \"Bagaimana cara menginstall aplikasi Jamsostek Mobile (JMO)?\",\n",
    "    \"Bagaimana cara mengajukan klaim JHT melalui JMO jika memiliki lebih dari 1 kartu?\",\n",
    "    \"Promo apa saja yang tersedia pada aplikasi Jamsostek Mobile (JMO)?\",\n",
    "    \"Jika anggota baru di JMO, apakah harus mendaftar di MotionPay?\",\n",
    "    \"Apakah itu Promo?\",\n",
    "    \"Apakah itu MotionPay?\", \n",
    "    \"Bagaimana jika lupa PIN EPS?\",\n",
    "    \"Apakah sandi/PIN harus diubah secara berkala di kedua aplikasi?\",\n",
    "    \"Dokumen apa sajakah persyaratan mengajukan JHT bagi PMI yang berpindah menjadi Warga Negara Asing?\",\n",
    "    \"Promo apa saja yang tersedia pada aplikasi Jamsostek Mobile (JMO)?\",\n",
    "    \"Apa itu BPJS Ketenagakerjaan?\",\n",
    "    \"Apa saja program BPJS Ketenagakerjaan?\",\n",
    "    \"Siapakah yang dimaksud peserta BPJS Ketenagakerjaan?\",\n",
    "    \"Apakah yang dimaksud dengan PHK?\",\n",
    "    \"Apakah pegawai BHL (Buruh Harian Lepas) dapat mengikuti program JKP\",\n",
    "    \"Bagaimana caranya badan usaha/pemberi kerja dapat menggunakan layanan Payment Reminder System(PRS)?\",\n",
    "    \"Peserta BPU sudah melakukan pembayaran iuran namun transaksi pembayaran iuran belum merubah masa perlindungan/saldo JHT belum bertambah, apakah yang harus dilakukan?\",\n",
    "    \"Apakah aplikasi Electronic Payment System (EPS)?\",\n",
    "    \"Apa perbedaan program Jaminan Hari Tua (JHT) dan Jaminan Pensiun (JP)?\",\n",
    "    \"Apa saja pelayanan BPJS Kesehatan yang dapat dimanfaatkan?\",\n",
    "    \"Bagaimana Mendaftarkan Bayi Baru Lahir?\",\n",
    "    \"Apa itu GRC?\",\n",
    "    \"Cara Membayar Iuran\",\n",
    "    \"Apa saja pelayanan BPJS Kesehatan yang dapat dimanfaatkan?\",\n",
    "    \"Kapan pembayaran iuran paling lambat?\",\n",
    "    \"Bagaimana komitmen BPJS Kesehatan terkait gratifikasi?\"\n",
    " \n",
    "]\n",
    "\n",
    "for q in questions:\n",
    "    print(f\"\\n{'-'*5}\")\n",
    "    print(f\"PERTANYAAN: {q}\")\n",
    "    chatbot_response = ask(q)\n",
    "    print(f\"JAWABAN CHATBOT:\\n{chatbot_response}\")\n",
    "    print(f\"\\n{'-'*5}\")\n",
    "\n",
    "    \n",
    "    # Membandingkan dengan jawaban asli (jika ada pertanyaan yang sama persis)\n",
    "    actual_answer = answer_from_doc(q)\n",
    "    if actual_answer != \"Tidak ada jawaban yang cocok persis di dalam dataset.\":\n",
    "        print(f\"\\n{'-'*50}\")\n",
    "        print(f\"\\nJawaban Sebenarnya (dari dataset): {actual_answer}\")\n",
    "        print(f\"\\n{'-'*50}\")"
   ]
  },
  {
   "cell_type": "code",
   "execution_count": 10,
   "id": "cfc18019",
   "metadata": {},
   "outputs": [
    {
     "name": "stdout",
     "output_type": "stream",
     "text": [
      "\n",
      "\n",
      " UJI COBA 2: Pertanyaan di Luar Konteks \n",
      "\n",
      "-----\n",
      "Pertanyaan: Apa itu Allo Bank?\n"
     ]
    },
    {
     "name": "stderr",
     "output_type": "stream",
     "text": [
      "c:\\Users\\MyBook Hype AMD\\miniconda3\\envs\\h8_env\\lib\\site-packages\\langchain_google_genai\\chat_models.py:483: UserWarning: Convert_system_message_to_human will be deprecated!\n",
      "  warnings.warn(\"Convert_system_message_to_human will be deprecated!\")\n"
     ]
    },
    {
     "name": "stdout",
     "output_type": "stream",
     "text": [
      "Jawaban Chatbot:\n",
      "Mohon maaf, saya tidak memiliki informasi mengenai Allo Bank. Saya hanya dapat menjawab pertanyaan seputar layanan BPJS Kesehatan dan BPJS Ketenagakerjaan.\n",
      "\n",
      "--------------------------------------------------\n",
      "\n",
      "Jawaban Sebenarnya (dari dataset): Tidak ada jawaban.\n",
      "\n",
      "--------------------------------------------------\n",
      "\n",
      "-----\n",
      "Pertanyaan: Bagaimana cara mengajukan KPR?\n"
     ]
    },
    {
     "name": "stderr",
     "output_type": "stream",
     "text": [
      "c:\\Users\\MyBook Hype AMD\\miniconda3\\envs\\h8_env\\lib\\site-packages\\langchain_google_genai\\chat_models.py:483: UserWarning: Convert_system_message_to_human will be deprecated!\n",
      "  warnings.warn(\"Convert_system_message_to_human will be deprecated!\")\n"
     ]
    },
    {
     "name": "stdout",
     "output_type": "stream",
     "text": [
      "Jawaban Chatbot:\n",
      "Mohon maaf, saya tidak memiliki informasi mengenai cara mengajukan KPR (Kredit Pemilikan Rumah) berdasarkan FAQ yang tersedia.  Saya hanya dapat menjawab pertanyaan seputar layanan BPJS Kesehatan dan BPJS Ketenagakerjaan yang tercantum dalam FAQ tersebut.\n",
      "\n",
      "--------------------------------------------------\n",
      "\n",
      "Jawaban Sebenarnya (dari dataset): Tidak ada jawaban.\n",
      "\n",
      "--------------------------------------------------\n",
      "\n",
      "-----\n",
      "Pertanyaan: Siapa penemu listrik?\n"
     ]
    },
    {
     "name": "stderr",
     "output_type": "stream",
     "text": [
      "c:\\Users\\MyBook Hype AMD\\miniconda3\\envs\\h8_env\\lib\\site-packages\\langchain_google_genai\\chat_models.py:483: UserWarning: Convert_system_message_to_human will be deprecated!\n",
      "  warnings.warn(\"Convert_system_message_to_human will be deprecated!\")\n"
     ]
    },
    {
     "name": "stdout",
     "output_type": "stream",
     "text": [
      "Jawaban Chatbot:\n",
      "Mohon maaf, saya tidak memiliki informasi mengenai hal tersebut. Saya hanya dapat menjawab pertanyaan seputar layanan BPJS Kesehatan dan BPJS Ketenagakerjaan.\n",
      "\n",
      "--------------------------------------------------\n",
      "\n",
      "Jawaban Sebenarnya (dari dataset): Tidak ada jawaban.\n",
      "\n",
      "--------------------------------------------------\n",
      "\n",
      "-----\n",
      "Pertanyaan: Apa saja manfaat dari olahraga?\n"
     ]
    },
    {
     "name": "stderr",
     "output_type": "stream",
     "text": [
      "c:\\Users\\MyBook Hype AMD\\miniconda3\\envs\\h8_env\\lib\\site-packages\\langchain_google_genai\\chat_models.py:483: UserWarning: Convert_system_message_to_human will be deprecated!\n",
      "  warnings.warn(\"Convert_system_message_to_human will be deprecated!\")\n"
     ]
    },
    {
     "name": "stdout",
     "output_type": "stream",
     "text": [
      "Jawaban Chatbot:\n",
      "Mohon maaf, saya tidak memiliki informasi mengenai manfaat olahraga. Saya hanya dapat menjawab pertanyaan seputar layanan BPJS Kesehatan dan BPJS Ketenagakerjaan.\n",
      "\n",
      "--------------------------------------------------\n",
      "\n",
      "Jawaban Sebenarnya (dari dataset): Tidak ada jawaban.\n",
      "\n",
      "--------------------------------------------------\n",
      "\n",
      "-----\n",
      "Pertanyaan: Bagaimana cara membuat kue?\n"
     ]
    },
    {
     "name": "stderr",
     "output_type": "stream",
     "text": [
      "c:\\Users\\MyBook Hype AMD\\miniconda3\\envs\\h8_env\\lib\\site-packages\\langchain_google_genai\\chat_models.py:483: UserWarning: Convert_system_message_to_human will be deprecated!\n",
      "  warnings.warn(\"Convert_system_message_to_human will be deprecated!\")\n"
     ]
    },
    {
     "name": "stdout",
     "output_type": "stream",
     "text": [
      "Jawaban Chatbot:\n",
      "Mohon maaf, saya tidak memiliki informasi mengenai hal tersebut. Saya hanya dapat menjawab pertanyaan seputar layanan BPJS Kesehatan dan BPJS Ketenagakerjaan.\n",
      "\n",
      "--------------------------------------------------\n",
      "\n",
      "Jawaban Sebenarnya (dari dataset): Tidak ada jawaban.\n",
      "\n",
      "--------------------------------------------------\n",
      "\n",
      "-----\n",
      "Pertanyaan: Jelaskan apa itu Quantum Computing?\n"
     ]
    },
    {
     "name": "stderr",
     "output_type": "stream",
     "text": [
      "c:\\Users\\MyBook Hype AMD\\miniconda3\\envs\\h8_env\\lib\\site-packages\\langchain_google_genai\\chat_models.py:483: UserWarning: Convert_system_message_to_human will be deprecated!\n",
      "  warnings.warn(\"Convert_system_message_to_human will be deprecated!\")\n"
     ]
    },
    {
     "name": "stdout",
     "output_type": "stream",
     "text": [
      "Jawaban Chatbot:\n",
      "Mohon maaf, saya tidak memiliki informasi mengenai hal tersebut. Saya hanya dapat menjawab pertanyaan seputar layanan BPJS Kesehatan dan BPJS Ketenagakerjaan.\n",
      "\n",
      "--------------------------------------------------\n",
      "\n",
      "Jawaban Sebenarnya (dari dataset): Tidak ada jawaban.\n",
      "\n",
      "--------------------------------------------------\n",
      "\n",
      "-----\n",
      "Pertanyaan: Apa yang dimaksud dengan Machine Learning?\n"
     ]
    },
    {
     "name": "stderr",
     "output_type": "stream",
     "text": [
      "c:\\Users\\MyBook Hype AMD\\miniconda3\\envs\\h8_env\\lib\\site-packages\\langchain_google_genai\\chat_models.py:483: UserWarning: Convert_system_message_to_human will be deprecated!\n",
      "  warnings.warn(\"Convert_system_message_to_human will be deprecated!\")\n"
     ]
    },
    {
     "name": "stdout",
     "output_type": "stream",
     "text": [
      "Jawaban Chatbot:\n",
      "Mohon maaf, saya tidak memiliki informasi mengenai hal tersebut. Saya hanya dapat menjawab pertanyaan seputar layanan BPJS Kesehatan dan BPJS Ketenagakerjaan.\n",
      "\n",
      "--------------------------------------------------\n",
      "\n",
      "Jawaban Sebenarnya (dari dataset): Tidak ada jawaban.\n",
      "\n",
      "--------------------------------------------------\n",
      "\n",
      "-----\n",
      "Pertanyaan: Gimana cara buat foto HD dengan AI?\n"
     ]
    },
    {
     "name": "stderr",
     "output_type": "stream",
     "text": [
      "c:\\Users\\MyBook Hype AMD\\miniconda3\\envs\\h8_env\\lib\\site-packages\\langchain_google_genai\\chat_models.py:483: UserWarning: Convert_system_message_to_human will be deprecated!\n",
      "  warnings.warn(\"Convert_system_message_to_human will be deprecated!\")\n"
     ]
    },
    {
     "name": "stdout",
     "output_type": "stream",
     "text": [
      "Jawaban Chatbot:\n",
      "Mohon maaf, saya tidak memiliki informasi mengenai hal tersebut. Saya hanya dapat menjawab pertanyaan seputar layanan BPJS Kesehatan dan BPJS Ketenagakerjaan.\n",
      "\n",
      "--------------------------------------------------\n",
      "\n",
      "Jawaban Sebenarnya (dari dataset): Tidak ada jawaban.\n",
      "\n",
      "--------------------------------------------------\n",
      "\n",
      "-----\n",
      "Pertanyaan: Apa itu teknologi blockchain?\n"
     ]
    },
    {
     "name": "stderr",
     "output_type": "stream",
     "text": [
      "c:\\Users\\MyBook Hype AMD\\miniconda3\\envs\\h8_env\\lib\\site-packages\\langchain_google_genai\\chat_models.py:483: UserWarning: Convert_system_message_to_human will be deprecated!\n",
      "  warnings.warn(\"Convert_system_message_to_human will be deprecated!\")\n"
     ]
    },
    {
     "name": "stdout",
     "output_type": "stream",
     "text": [
      "Jawaban Chatbot:\n",
      "Mohon maaf, saya tidak memiliki informasi mengenai hal tersebut. Saya hanya dapat menjawab pertanyaan seputar layanan BPJS Kesehatan dan BPJS Ketenagakerjaan.\n",
      "\n",
      "--------------------------------------------------\n",
      "\n",
      "Jawaban Sebenarnya (dari dataset): Tidak ada jawaban.\n",
      "\n",
      "--------------------------------------------------\n",
      "\n",
      "-----\n",
      "Pertanyaan: Apa itu teknologi quantum?\n"
     ]
    },
    {
     "name": "stderr",
     "output_type": "stream",
     "text": [
      "c:\\Users\\MyBook Hype AMD\\miniconda3\\envs\\h8_env\\lib\\site-packages\\langchain_google_genai\\chat_models.py:483: UserWarning: Convert_system_message_to_human will be deprecated!\n",
      "  warnings.warn(\"Convert_system_message_to_human will be deprecated!\")\n"
     ]
    },
    {
     "name": "stdout",
     "output_type": "stream",
     "text": [
      "Jawaban Chatbot:\n",
      "Mohon maaf, saya tidak memiliki informasi mengenai hal tersebut. Saya hanya dapat menjawab pertanyaan seputar layanan BPJS Kesehatan dan BPJS Ketenagakerjaan.\n",
      "\n",
      "--------------------------------------------------\n",
      "\n",
      "Jawaban Sebenarnya (dari dataset): Tidak ada jawaban.\n",
      "\n",
      "--------------------------------------------------\n",
      "\n",
      "-----\n",
      "Pertanyaan: Apa kopi paling enak saat ini?\n"
     ]
    },
    {
     "name": "stderr",
     "output_type": "stream",
     "text": [
      "c:\\Users\\MyBook Hype AMD\\miniconda3\\envs\\h8_env\\lib\\site-packages\\langchain_google_genai\\chat_models.py:483: UserWarning: Convert_system_message_to_human will be deprecated!\n",
      "  warnings.warn(\"Convert_system_message_to_human will be deprecated!\")\n"
     ]
    },
    {
     "name": "stdout",
     "output_type": "stream",
     "text": [
      "Jawaban Chatbot:\n",
      "Mohon maaf, saya tidak memiliki informasi mengenai hal tersebut. Saya hanya dapat menjawab pertanyaan seputar layanan BPJS Kesehatan dan BPJS Ketenagakerjaan.\n",
      "\n",
      "--------------------------------------------------\n",
      "\n",
      "Jawaban Sebenarnya (dari dataset): Tidak ada jawaban.\n",
      "\n",
      "--------------------------------------------------\n",
      "\n",
      "-----\n",
      "Pertanyaan: Sebutkan Sepatu lari paling enak\n"
     ]
    },
    {
     "name": "stderr",
     "output_type": "stream",
     "text": [
      "c:\\Users\\MyBook Hype AMD\\miniconda3\\envs\\h8_env\\lib\\site-packages\\langchain_google_genai\\chat_models.py:483: UserWarning: Convert_system_message_to_human will be deprecated!\n",
      "  warnings.warn(\"Convert_system_message_to_human will be deprecated!\")\n"
     ]
    },
    {
     "name": "stdout",
     "output_type": "stream",
     "text": [
      "Jawaban Chatbot:\n",
      "Mohon maaf, saya tidak memiliki informasi mengenai hal tersebut. Saya hanya dapat menjawab pertanyaan seputar layanan BPJS Kesehatan dan BPJS Ketenagakerjaan.\n",
      "\n",
      "--------------------------------------------------\n",
      "\n",
      "Jawaban Sebenarnya (dari dataset): Tidak ada jawaban.\n",
      "\n",
      "--------------------------------------------------\n",
      "\n",
      "-----\n",
      "Pertanyaan: Kapan Indonesia Merdeka?\n"
     ]
    },
    {
     "name": "stderr",
     "output_type": "stream",
     "text": [
      "c:\\Users\\MyBook Hype AMD\\miniconda3\\envs\\h8_env\\lib\\site-packages\\langchain_google_genai\\chat_models.py:483: UserWarning: Convert_system_message_to_human will be deprecated!\n",
      "  warnings.warn(\"Convert_system_message_to_human will be deprecated!\")\n"
     ]
    },
    {
     "name": "stdout",
     "output_type": "stream",
     "text": [
      "Jawaban Chatbot:\n",
      "Mohon maaf, saya tidak memiliki informasi mengenai hal tersebut. Saya hanya dapat menjawab pertanyaan seputar layanan BPJS Kesehatan dan BPJS Ketenagakerjaan.\n",
      "\n",
      "--------------------------------------------------\n",
      "\n",
      "Jawaban Sebenarnya (dari dataset): Tidak ada jawaban.\n",
      "\n",
      "--------------------------------------------------\n",
      "\n",
      "-----\n",
      "Pertanyaan: Dimana kantor urusan agama terdekat\n"
     ]
    },
    {
     "name": "stderr",
     "output_type": "stream",
     "text": [
      "c:\\Users\\MyBook Hype AMD\\miniconda3\\envs\\h8_env\\lib\\site-packages\\langchain_google_genai\\chat_models.py:483: UserWarning: Convert_system_message_to_human will be deprecated!\n",
      "  warnings.warn(\"Convert_system_message_to_human will be deprecated!\")\n"
     ]
    },
    {
     "name": "stdout",
     "output_type": "stream",
     "text": [
      "Jawaban Chatbot:\n",
      "Mohon maaf, saya tidak memiliki informasi mengenai hal tersebut. Saya hanya dapat menjawab pertanyaan seputar layanan BPJS Kesehatan dan BPJS Ketenagakerjaan.\n",
      "\n",
      "--------------------------------------------------\n",
      "\n",
      "Jawaban Sebenarnya (dari dataset): Tidak ada jawaban.\n",
      "\n",
      "--------------------------------------------------\n",
      "\n",
      "-----\n",
      "Pertanyaan: Jelaskan tentang skema piala dunia?\n"
     ]
    },
    {
     "name": "stderr",
     "output_type": "stream",
     "text": [
      "c:\\Users\\MyBook Hype AMD\\miniconda3\\envs\\h8_env\\lib\\site-packages\\langchain_google_genai\\chat_models.py:483: UserWarning: Convert_system_message_to_human will be deprecated!\n",
      "  warnings.warn(\"Convert_system_message_to_human will be deprecated!\")\n"
     ]
    },
    {
     "name": "stdout",
     "output_type": "stream",
     "text": [
      "Jawaban Chatbot:\n",
      "Mohon maaf, saya tidak memiliki informasi mengenai skema piala dunia. Saya hanya dapat menjawab pertanyaan seputar layanan BPJS Kesehatan dan BPJS Ketenagakerjaan.\n",
      "\n",
      "--------------------------------------------------\n",
      "\n",
      "Jawaban Sebenarnya (dari dataset): Tidak ada jawaban.\n",
      "\n",
      "--------------------------------------------------\n",
      "\n",
      "-----\n",
      "Pertanyaan: Siapa pencetak gol terbanyak piala dunia 2022?\n"
     ]
    },
    {
     "name": "stderr",
     "output_type": "stream",
     "text": [
      "c:\\Users\\MyBook Hype AMD\\miniconda3\\envs\\h8_env\\lib\\site-packages\\langchain_google_genai\\chat_models.py:483: UserWarning: Convert_system_message_to_human will be deprecated!\n",
      "  warnings.warn(\"Convert_system_message_to_human will be deprecated!\")\n"
     ]
    },
    {
     "name": "stdout",
     "output_type": "stream",
     "text": [
      "Jawaban Chatbot:\n",
      "Mohon maaf, saya tidak memiliki informasi mengenai hal tersebut. Saya hanya dapat menjawab pertanyaan seputar layanan BPJS Kesehatan dan BPJS Ketenagakerjaan.\n",
      "\n",
      "--------------------------------------------------\n",
      "\n",
      "Jawaban Sebenarnya (dari dataset): Tidak ada jawaban.\n",
      "\n",
      "--------------------------------------------------\n",
      "\n",
      "-----\n",
      "Pertanyaan: Jumlah total trofi Liverpool berapa?\n"
     ]
    },
    {
     "name": "stderr",
     "output_type": "stream",
     "text": [
      "c:\\Users\\MyBook Hype AMD\\miniconda3\\envs\\h8_env\\lib\\site-packages\\langchain_google_genai\\chat_models.py:483: UserWarning: Convert_system_message_to_human will be deprecated!\n",
      "  warnings.warn(\"Convert_system_message_to_human will be deprecated!\")\n"
     ]
    },
    {
     "name": "stdout",
     "output_type": "stream",
     "text": [
      "Jawaban Chatbot:\n",
      "Mohon maaf, saya tidak memiliki informasi mengenai hal tersebut. Saya hanya dapat menjawab pertanyaan seputar layanan BPJS Kesehatan dan BPJS Ketenagakerjaan.\n",
      "\n",
      "--------------------------------------------------\n",
      "\n",
      "Jawaban Sebenarnya (dari dataset): Tidak ada jawaban.\n",
      "\n",
      "--------------------------------------------------\n",
      "\n",
      "-----\n",
      "Pertanyaan: Hitung luas Kota Surabaya\n"
     ]
    },
    {
     "name": "stderr",
     "output_type": "stream",
     "text": [
      "c:\\Users\\MyBook Hype AMD\\miniconda3\\envs\\h8_env\\lib\\site-packages\\langchain_google_genai\\chat_models.py:483: UserWarning: Convert_system_message_to_human will be deprecated!\n",
      "  warnings.warn(\"Convert_system_message_to_human will be deprecated!\")\n"
     ]
    },
    {
     "name": "stdout",
     "output_type": "stream",
     "text": [
      "Jawaban Chatbot:\n",
      "Mohon maaf, saya tidak memiliki informasi mengenai hal tersebut. Saya hanya dapat menjawab pertanyaan seputar layanan BPJS Kesehatan dan BPJS Ketenagakerjaan.\n",
      "\n",
      "--------------------------------------------------\n",
      "\n",
      "Jawaban Sebenarnya (dari dataset): Tidak ada jawaban.\n",
      "\n",
      "--------------------------------------------------\n",
      "\n",
      "-----\n",
      "Pertanyaan: Dimana tempat syuting film laskar Pelangi?\n"
     ]
    },
    {
     "name": "stderr",
     "output_type": "stream",
     "text": [
      "c:\\Users\\MyBook Hype AMD\\miniconda3\\envs\\h8_env\\lib\\site-packages\\langchain_google_genai\\chat_models.py:483: UserWarning: Convert_system_message_to_human will be deprecated!\n",
      "  warnings.warn(\"Convert_system_message_to_human will be deprecated!\")\n"
     ]
    },
    {
     "name": "stdout",
     "output_type": "stream",
     "text": [
      "Jawaban Chatbot:\n",
      "Mohon maaf, saya tidak memiliki informasi mengenai hal tersebut. Saya hanya dapat menjawab pertanyaan seputar layanan BPJS Kesehatan dan BPJS Ketenagakerjaan.\n",
      "\n",
      "--------------------------------------------------\n",
      "\n",
      "Jawaban Sebenarnya (dari dataset): Tidak ada jawaban.\n",
      "\n",
      "--------------------------------------------------\n",
      "\n",
      "-----\n",
      "Pertanyaan: Dimana bom atom amerika saat perang dunia kedua dibuat?\n"
     ]
    },
    {
     "name": "stderr",
     "output_type": "stream",
     "text": [
      "c:\\Users\\MyBook Hype AMD\\miniconda3\\envs\\h8_env\\lib\\site-packages\\langchain_google_genai\\chat_models.py:483: UserWarning: Convert_system_message_to_human will be deprecated!\n",
      "  warnings.warn(\"Convert_system_message_to_human will be deprecated!\")\n"
     ]
    },
    {
     "name": "stdout",
     "output_type": "stream",
     "text": [
      "Jawaban Chatbot:\n",
      "Mohon maaf, saya tidak memiliki informasi mengenai hal tersebut. Saya hanya dapat menjawab pertanyaan seputar layanan BPJS Kesehatan dan BPJS Ketenagakerjaan.\n",
      "\n",
      "--------------------------------------------------\n",
      "\n",
      "Jawaban Sebenarnya (dari dataset): Tidak ada jawaban.\n",
      "\n",
      "--------------------------------------------------\n",
      "\n",
      "-----\n",
      "Pertanyaan: Bagaimana cara membedakan biji kopi?\n"
     ]
    },
    {
     "name": "stderr",
     "output_type": "stream",
     "text": [
      "c:\\Users\\MyBook Hype AMD\\miniconda3\\envs\\h8_env\\lib\\site-packages\\langchain_google_genai\\chat_models.py:483: UserWarning: Convert_system_message_to_human will be deprecated!\n",
      "  warnings.warn(\"Convert_system_message_to_human will be deprecated!\")\n"
     ]
    },
    {
     "name": "stdout",
     "output_type": "stream",
     "text": [
      "Jawaban Chatbot:\n",
      "Mohon maaf, saya tidak memiliki informasi mengenai hal tersebut. Saya hanya dapat menjawab pertanyaan seputar layanan BPJS Kesehatan dan BPJS Ketenagakerjaan.\n",
      "\n",
      "--------------------------------------------------\n",
      "\n",
      "Jawaban Sebenarnya (dari dataset): Tidak ada jawaban.\n",
      "\n",
      "--------------------------------------------------\n",
      "\n",
      "-----\n",
      "Pertanyaan: Jembatan merah ada Dimana?\n"
     ]
    },
    {
     "name": "stderr",
     "output_type": "stream",
     "text": [
      "c:\\Users\\MyBook Hype AMD\\miniconda3\\envs\\h8_env\\lib\\site-packages\\langchain_google_genai\\chat_models.py:483: UserWarning: Convert_system_message_to_human will be deprecated!\n",
      "  warnings.warn(\"Convert_system_message_to_human will be deprecated!\")\n"
     ]
    },
    {
     "name": "stdout",
     "output_type": "stream",
     "text": [
      "Jawaban Chatbot:\n",
      "Mohon maaf, saya tidak memiliki informasi mengenai hal tersebut. Saya hanya dapat menjawab pertanyaan seputar layanan BPJS Kesehatan dan BPJS Ketenagakerjaan.\n",
      "\n",
      "--------------------------------------------------\n",
      "\n",
      "Jawaban Sebenarnya (dari dataset): Tidak ada jawaban.\n",
      "\n",
      "--------------------------------------------------\n",
      "\n",
      "-----\n",
      "Pertanyaan: Siapa presiden Indonesia pertama?\n"
     ]
    },
    {
     "name": "stderr",
     "output_type": "stream",
     "text": [
      "c:\\Users\\MyBook Hype AMD\\miniconda3\\envs\\h8_env\\lib\\site-packages\\langchain_google_genai\\chat_models.py:483: UserWarning: Convert_system_message_to_human will be deprecated!\n",
      "  warnings.warn(\"Convert_system_message_to_human will be deprecated!\")\n"
     ]
    },
    {
     "name": "stdout",
     "output_type": "stream",
     "text": [
      "Jawaban Chatbot:\n",
      "Mohon maaf, saya tidak memiliki informasi mengenai hal tersebut. Saya hanya dapat menjawab pertanyaan seputar layanan BPJS Kesehatan dan BPJS Ketenagakerjaan.\n",
      "\n",
      "--------------------------------------------------\n",
      "\n",
      "Jawaban Sebenarnya (dari dataset): Tidak ada jawaban.\n",
      "\n",
      "--------------------------------------------------\n",
      "\n",
      "-----\n",
      "Pertanyaan: Siapa penemu alat musik gitar?\n"
     ]
    },
    {
     "name": "stderr",
     "output_type": "stream",
     "text": [
      "c:\\Users\\MyBook Hype AMD\\miniconda3\\envs\\h8_env\\lib\\site-packages\\langchain_google_genai\\chat_models.py:483: UserWarning: Convert_system_message_to_human will be deprecated!\n",
      "  warnings.warn(\"Convert_system_message_to_human will be deprecated!\")\n"
     ]
    },
    {
     "name": "stdout",
     "output_type": "stream",
     "text": [
      "Jawaban Chatbot:\n",
      "Mohon maaf, saya tidak memiliki informasi mengenai hal tersebut. Saya hanya dapat menjawab pertanyaan seputar layanan BPJS Kesehatan dan BPJS Ketenagakerjaan.\n",
      "\n",
      "--------------------------------------------------\n",
      "\n",
      "Jawaban Sebenarnya (dari dataset): Tidak ada jawaban.\n",
      "\n",
      "--------------------------------------------------\n",
      "\n",
      "-----\n",
      "Pertanyaan: Hitung luas lapangan bola.\n"
     ]
    },
    {
     "name": "stderr",
     "output_type": "stream",
     "text": [
      "c:\\Users\\MyBook Hype AMD\\miniconda3\\envs\\h8_env\\lib\\site-packages\\langchain_google_genai\\chat_models.py:483: UserWarning: Convert_system_message_to_human will be deprecated!\n",
      "  warnings.warn(\"Convert_system_message_to_human will be deprecated!\")\n"
     ]
    },
    {
     "name": "stdout",
     "output_type": "stream",
     "text": [
      "Jawaban Chatbot:\n",
      "Mohon maaf, saya tidak memiliki informasi mengenai hal tersebut. Saya hanya dapat menjawab pertanyaan seputar layanan BPJS Kesehatan dan BPJS Ketenagakerjaan.\n",
      "\n",
      "--------------------------------------------------\n",
      "\n",
      "Jawaban Sebenarnya (dari dataset): Tidak ada jawaban.\n",
      "\n",
      "--------------------------------------------------\n"
     ]
    }
   ],
   "source": [
    "# TEST CASE 2: Pertanyaan di luar konteks (untuk menguji penolakan)\n",
    "# Pertanyaan ini untuk memastikan chatbot tidak mengarang jawaban.\n",
    "print(\"\\n\\n UJI COBA 2: Pertanyaan di Luar Konteks \")\n",
    "questions_out_of_context = [\n",
    "    \"Apa itu Allo Bank?\",\n",
    "    \"Bagaimana cara mengajukan KPR?\",\n",
    "    \"Siapa penemu listrik?\",\n",
    "    \"Apa saja manfaat dari olahraga?\",\n",
    "    \"Bagaimana cara membuat kue?\",\n",
    "    \"Jelaskan apa itu Quantum Computing?\",\n",
    "    \"Apa yang dimaksud dengan Machine Learning?\",\n",
    "    \"Gimana cara buat foto HD dengan AI?\",\n",
    "    \"Apa itu teknologi blockchain?\",\n",
    "    \"Apa itu teknologi quantum?\",\n",
    "    \"Apa kopi paling enak saat ini?\",\n",
    "    \"Sebutkan Sepatu lari paling enak\",\n",
    "    \"Kapan Indonesia Merdeka?\",\n",
    "    \"Dimana kantor urusan agama terdekat\",\n",
    "    \"Jelaskan tentang skema piala dunia?\",\n",
    "    \"Siapa pencetak gol terbanyak piala dunia 2022?\",\n",
    "    \"Jumlah total trofi Liverpool berapa?\",\n",
    "    \"Hitung luas Kota Surabaya\",\n",
    "    \"Dimana tempat syuting film laskar Pelangi?\",\n",
    "    \"Dimana bom atom amerika saat perang dunia kedua dibuat?\",\n",
    "    \"Bagaimana cara membedakan biji kopi?\",\n",
    "    \"Jembatan merah ada Dimana?\",\n",
    "    \"Siapa presiden Indonesia pertama?\",\n",
    "    \"Siapa penemu alat musik gitar?\",\n",
    "    \"Hitung luas lapangan bola.\"\n",
    "]\n",
    "\n",
    "for q in questions_out_of_context:\n",
    "    print(f\"\\n{'-'*5}\")\n",
    "    print(f\"Pertanyaan: {q}\")\n",
    "    chatbot_answer = ask(q)\n",
    "    print(f\"Jawaban Chatbot:\\n{chatbot_answer}\")\n",
    "\n",
    "    # Membandingkan dengan jawaban asli (jika ada pertanyaan yang sama persis)\n",
    "    actual_answer = answer_from_doc(q)\n",
    "    if actual_answer != \"Tidak ada jawaban yang cocok persis di dalam dataset.\":\n",
    "        print(f\"\\n{'-'*50}\")\n",
    "        print(f\"\\nJawaban Sebenarnya (dari dataset): {actual_answer}\")\n",
    "        print(f\"\\n{'-'*50}\")\n",
    "    \n"
   ]
  },
  {
   "cell_type": "code",
   "execution_count": 11,
   "id": "16e2c0b0",
   "metadata": {},
   "outputs": [
    {
     "name": "stdout",
     "output_type": "stream",
     "text": [
      "\n",
      "\n",
      " UJI COBA 3: Pertanyaan Masih dalam Konteks namun terdapat kesalahan penulisan \n",
      "\n",
      "-----\n",
      "Pertanyaan: Aph itu BPJS Ketenagakerajaan?\n"
     ]
    },
    {
     "name": "stderr",
     "output_type": "stream",
     "text": [
      "c:\\Users\\MyBook Hype AMD\\miniconda3\\envs\\h8_env\\lib\\site-packages\\langchain_google_genai\\chat_models.py:483: UserWarning: Convert_system_message_to_human will be deprecated!\n",
      "  warnings.warn(\"Convert_system_message_to_human will be deprecated!\")\n"
     ]
    },
    {
     "name": "stdout",
     "output_type": "stream",
     "text": [
      "Jawaban Chatbot:\n",
      "Mohon maaf, saya tidak memiliki informasi mengenai hal tersebut. Saya hanya dapat menjawab pertanyaan seputar layanan BPJS Kesehatan dan BPJS Ketenagakerjaan berdasarkan FAQ yang tersedia.  FAQ yang tersedia saat ini tidak menjelaskan secara detail \"Apa itu BPJS Ketenagakerjaan?\".\n",
      "\n",
      "--------------------------------------------------\n",
      "\n",
      "Jawaban Sebenarnya (dari dataset): Tidak ada jawaban.\n",
      "\n",
      "--------------------------------------------------\n",
      "\n",
      "-----\n",
      "Pertanyaan: Apa sajak program BPJS Ketenagakerjaan?\n"
     ]
    },
    {
     "name": "stderr",
     "output_type": "stream",
     "text": [
      "c:\\Users\\MyBook Hype AMD\\miniconda3\\envs\\h8_env\\lib\\site-packages\\langchain_google_genai\\chat_models.py:483: UserWarning: Convert_system_message_to_human will be deprecated!\n",
      "  warnings.warn(\"Convert_system_message_to_human will be deprecated!\")\n"
     ]
    },
    {
     "name": "stdout",
     "output_type": "stream",
     "text": [
      "Jawaban Chatbot:\n",
      "Mohon maaf, saya tidak memiliki informasi mengenai program-program BPJS Ketenagakerjaan secara rinci.  FAQ yang tersedia hanya menjelaskan cara pendaftaran, penahapan kepesertaan, siapa peserta, fungsi BPJS Ketenagakerjaan, dan cara badan usaha mendaftar.  Untuk informasi detail mengenai program-program BPJS Ketenagakerjaan, saya sarankan untuk mengunjungi website resmi BPJS Ketenagakerjaan atau menghubungi kantor cabang terdekat.\n",
      "\n",
      "--------------------------------------------------\n",
      "\n",
      "Jawaban Sebenarnya (dari dataset): Tidak ada jawaban.\n",
      "\n",
      "--------------------------------------------------\n",
      "\n",
      "-----\n",
      "Pertanyaan: Siapakah yang dimaksud peserta BPJS Ketenagakerajaan?\n"
     ]
    },
    {
     "name": "stderr",
     "output_type": "stream",
     "text": [
      "c:\\Users\\MyBook Hype AMD\\miniconda3\\envs\\h8_env\\lib\\site-packages\\langchain_google_genai\\chat_models.py:483: UserWarning: Convert_system_message_to_human will be deprecated!\n",
      "  warnings.warn(\"Convert_system_message_to_human will be deprecated!\")\n"
     ]
    },
    {
     "name": "stdout",
     "output_type": "stream",
     "text": [
      "Jawaban Chatbot:\n",
      "Peserta BPJS Ketenagakerjaan adalah seluruh pekerja/buruh di Indonesia, baik yang bekerja di sektor formal maupun informal, serta pekerja migran Indonesia yang bekerja di luar negeri.\n",
      "\n",
      "--------------------------------------------------\n",
      "\n",
      "Jawaban Sebenarnya (dari dataset): Tidak ada jawaban.\n",
      "\n",
      "--------------------------------------------------\n",
      "\n",
      "-----\n",
      "Pertanyaan: Apakh yang dimaksud dengan PHK?\n"
     ]
    },
    {
     "name": "stderr",
     "output_type": "stream",
     "text": [
      "c:\\Users\\MyBook Hype AMD\\miniconda3\\envs\\h8_env\\lib\\site-packages\\langchain_google_genai\\chat_models.py:483: UserWarning: Convert_system_message_to_human will be deprecated!\n",
      "  warnings.warn(\"Convert_system_message_to_human will be deprecated!\")\n"
     ]
    },
    {
     "name": "stdout",
     "output_type": "stream",
     "text": [
      "Jawaban Chatbot:\n",
      "Mohon maaf, saya tidak memiliki informasi mengenai hal tersebut. Saya hanya dapat menjawab pertanyaan seputar layanan BPJS Kesehatan dan BPJS Ketenagakerjaan.\n",
      "\n",
      "--------------------------------------------------\n",
      "\n",
      "Jawaban Sebenarnya (dari dataset): Tidak ada jawaban.\n",
      "\n",
      "--------------------------------------------------\n",
      "\n",
      "-----\n",
      "Pertanyaan: Apakah pegawai BHL (Burung Harian Lepas) dapat mengikuti program JKP?\n"
     ]
    },
    {
     "name": "stderr",
     "output_type": "stream",
     "text": [
      "c:\\Users\\MyBook Hype AMD\\miniconda3\\envs\\h8_env\\lib\\site-packages\\langchain_google_genai\\chat_models.py:483: UserWarning: Convert_system_message_to_human will be deprecated!\n",
      "  warnings.warn(\"Convert_system_message_to_human will be deprecated!\")\n"
     ]
    },
    {
     "name": "stdout",
     "output_type": "stream",
     "text": [
      "Jawaban Chatbot:\n",
      "Mohon maaf, saya tidak memiliki informasi mengenai hal tersebut. Saya hanya dapat menjawab pertanyaan seputar layanan BPJS Kesehatan dan BPJS Ketenagakerjaan berdasarkan FAQ yang diberikan, dan pertanyaan mengenai pegawai BHL (Buruh Harian Lepas) dan program JKP tidak termasuk di dalamnya.\n",
      "\n",
      "--------------------------------------------------\n",
      "\n",
      "Jawaban Sebenarnya (dari dataset): Tidak ada jawaban.\n",
      "\n",
      "--------------------------------------------------\n",
      "\n",
      "-----\n",
      "Pertanyaan: Peserta BPU sudah melakukan pembayaran iuran namun transaksi pembayaran iuran belum merubah masa perlindungan/saldo JHT belum bertambah, apakah yang harus dilakukan?\n"
     ]
    },
    {
     "name": "stderr",
     "output_type": "stream",
     "text": [
      "c:\\Users\\MyBook Hype AMD\\miniconda3\\envs\\h8_env\\lib\\site-packages\\langchain_google_genai\\chat_models.py:483: UserWarning: Convert_system_message_to_human will be deprecated!\n",
      "  warnings.warn(\"Convert_system_message_to_human will be deprecated!\")\n"
     ]
    },
    {
     "name": "stdout",
     "output_type": "stream",
     "text": [
      "Jawaban Chatbot:\n",
      "Peserta dapat menunjukkan tanda bukti pembayaran dari kanal pembayaran iuran tempat transaksi dilakukan.  Laporan tersebut akan ditindaklanjuti segera oleh tim BPJS Ketenagakerjaan.\n",
      "\n",
      "--------------------------------------------------\n",
      "\n",
      "Jawaban Sebenarnya (dari dataset): Peserta dapat menunjukkan tanda bukti pembayaran dari kanal pembayaran iuran dimana Peserta melakukan transaksi pembayaran iuran. Selanjutnya laporan akan ditindaklanjuti segera oleh tim BPJS Ketenagakerjaan.\n",
      "\n",
      "--------------------------------------------------\n",
      "\n",
      "-----\n",
      "Pertanyaan: Gimana jika lupa PIN EPS?\n"
     ]
    },
    {
     "name": "stderr",
     "output_type": "stream",
     "text": [
      "c:\\Users\\MyBook Hype AMD\\miniconda3\\envs\\h8_env\\lib\\site-packages\\langchain_google_genai\\chat_models.py:483: UserWarning: Convert_system_message_to_human will be deprecated!\n",
      "  warnings.warn(\"Convert_system_message_to_human will be deprecated!\")\n"
     ]
    },
    {
     "name": "stdout",
     "output_type": "stream",
     "text": [
      "Jawaban Chatbot:\n",
      "Pada laman login EPS terdapat fitur \"Lupa PIN\".  Silakan masukkan alamat email yang terdaftar untuk menerima PIN baru melalui email tersebut.\n",
      "\n",
      "--------------------------------------------------\n",
      "\n",
      "Jawaban Sebenarnya (dari dataset): Tidak ada jawaban.\n",
      "\n",
      "--------------------------------------------------\n",
      "\n",
      "-----\n",
      "Pertanyaan: Apakah itu Perumahan Pekerja?\n"
     ]
    },
    {
     "name": "stderr",
     "output_type": "stream",
     "text": [
      "c:\\Users\\MyBook Hype AMD\\miniconda3\\envs\\h8_env\\lib\\site-packages\\langchain_google_genai\\chat_models.py:483: UserWarning: Convert_system_message_to_human will be deprecated!\n",
      "  warnings.warn(\"Convert_system_message_to_human will be deprecated!\")\n"
     ]
    },
    {
     "name": "stdout",
     "output_type": "stream",
     "text": [
      "Jawaban Chatbot:\n",
      "Mohon maaf, saya tidak memiliki informasi mengenai Perumahan Pekerja. Saya hanya dapat menjawab pertanyaan seputar layanan BPJS Kesehatan dan BPJS Ketenagakerjaan berdasarkan FAQ yang tersedia.\n",
      "\n",
      "--------------------------------------------------\n",
      "\n",
      "Jawaban Sebenarnya (dari dataset): Fitur pengajuan manfaat perumahan pekerja untuk fasilitas pembiayaan perumahan yang diberikan oleh BPJS Ketenagakerjaan kepada peserta program JHT.\n",
      "\n",
      "--------------------------------------------------\n",
      "\n",
      "-----\n",
      "Pertanyaan: Dokumen apa sajakah persyaratan mengajukan JHT bagi PMI yang berpindah menjadi Warga Negara Asing?\n"
     ]
    },
    {
     "name": "stderr",
     "output_type": "stream",
     "text": [
      "c:\\Users\\MyBook Hype AMD\\miniconda3\\envs\\h8_env\\lib\\site-packages\\langchain_google_genai\\chat_models.py:483: UserWarning: Convert_system_message_to_human will be deprecated!\n",
      "  warnings.warn(\"Convert_system_message_to_human will be deprecated!\")\n"
     ]
    },
    {
     "name": "stdout",
     "output_type": "stream",
     "text": [
      "Jawaban Chatbot:\n",
      "Persyaratan mengajukan JHT bagi PMI yang berpindah menjadi Warga Negara Asing adalah:\n",
      "\n",
      "\n",
      "1. Kartu Peserta BPJS Ketenagakerjaan;\n",
      "\n",
      "2. Surat pindah kewarganegaraan dari instansi yang berwenang dan/atau bukti identitas sebagai warga negara asing; dan\n",
      "\n",
      "3. Rekening tabungan atas nama PMI.\n",
      "\n",
      "--------------------------------------------------\n",
      "\n",
      "Jawaban Sebenarnya (dari dataset): Peserta mengajukan permohonan pembayaran manfaat program JHT menggunakan formulir pengajuan manfaat dengan melampirkan persyaratan sebagai berikut:, Kartu Peserta BPJS Ketenagakerjaan; surat pindah kewarganegaraan dari instansi yang berwenang dan/atau bukti identitas sebagai warga negara asing; dan rekening tabungan atas nama PMI.\n",
      "\n",
      "--------------------------------------------------\n",
      "\n",
      "-----\n",
      "Pertanyaan: Kapan BSU tahun 2025 dibagikan?\n"
     ]
    },
    {
     "name": "stderr",
     "output_type": "stream",
     "text": [
      "c:\\Users\\MyBook Hype AMD\\miniconda3\\envs\\h8_env\\lib\\site-packages\\langchain_google_genai\\chat_models.py:483: UserWarning: Convert_system_message_to_human will be deprecated!\n",
      "  warnings.warn(\"Convert_system_message_to_human will be deprecated!\")\n"
     ]
    },
    {
     "name": "stdout",
     "output_type": "stream",
     "text": [
      "Jawaban Chatbot:\n",
      "Sesuai Permenaker Nomor 5 Tahun 2025, penyaluran BSU dimulai bulan Juni tahun 2025.\n",
      "\n",
      "--------------------------------------------------\n",
      "\n",
      "Jawaban Sebenarnya (dari dataset): Tidak ada jawaban.\n",
      "\n",
      "--------------------------------------------------\n",
      "\n",
      "-----\n",
      "Pertanyaan: Dimana obat batuk pertama kali ditemukan\n"
     ]
    },
    {
     "name": "stderr",
     "output_type": "stream",
     "text": [
      "c:\\Users\\MyBook Hype AMD\\miniconda3\\envs\\h8_env\\lib\\site-packages\\langchain_google_genai\\chat_models.py:483: UserWarning: Convert_system_message_to_human will be deprecated!\n",
      "  warnings.warn(\"Convert_system_message_to_human will be deprecated!\")\n"
     ]
    },
    {
     "name": "stdout",
     "output_type": "stream",
     "text": [
      "Jawaban Chatbot:\n",
      "Mohon maaf, saya tidak memiliki informasi mengenai hal tersebut. Saya hanya dapat menjawab pertanyaan seputar layanan BPJS Kesehatan dan BPJS Ketenagakerjaan.\n",
      "\n",
      "--------------------------------------------------\n",
      "\n",
      "Jawaban Sebenarnya (dari dataset): Tidak ada jawaban.\n",
      "\n",
      "--------------------------------------------------\n",
      "\n",
      "-----\n",
      "Pertanyaan: Jika flu sebaiknya minum obat herbal apa\n"
     ]
    },
    {
     "name": "stderr",
     "output_type": "stream",
     "text": [
      "c:\\Users\\MyBook Hype AMD\\miniconda3\\envs\\h8_env\\lib\\site-packages\\langchain_google_genai\\chat_models.py:483: UserWarning: Convert_system_message_to_human will be deprecated!\n",
      "  warnings.warn(\"Convert_system_message_to_human will be deprecated!\")\n"
     ]
    },
    {
     "name": "stdout",
     "output_type": "stream",
     "text": [
      "Jawaban Chatbot:\n",
      "Mohon maaf, saya tidak memiliki informasi mengenai hal tersebut. Saya hanya dapat menjawab pertanyaan seputar layanan BPJS Kesehatan dan BPJS Ketenagakerjaan.\n",
      "\n",
      "--------------------------------------------------\n",
      "\n",
      "Jawaban Sebenarnya (dari dataset): Tidak ada jawaban.\n",
      "\n",
      "--------------------------------------------------\n",
      "\n",
      "-----\n",
      "Pertanyaan: Sopo peserta BPJS ketenagakerjaan\n"
     ]
    },
    {
     "name": "stderr",
     "output_type": "stream",
     "text": [
      "c:\\Users\\MyBook Hype AMD\\miniconda3\\envs\\h8_env\\lib\\site-packages\\langchain_google_genai\\chat_models.py:483: UserWarning: Convert_system_message_to_human will be deprecated!\n",
      "  warnings.warn(\"Convert_system_message_to_human will be deprecated!\")\n"
     ]
    },
    {
     "name": "stdout",
     "output_type": "stream",
     "text": [
      "Jawaban Chatbot:\n",
      "Mohon maaf, saya tidak memiliki informasi mengenai kewajiban pemberi kerja dan siapa saja yang dimaksud bukan pekerja berdasarkan FAQ yang diberikan. Saya hanya dapat menjawab pertanyaan seputar layanan BPJS Kesehatan dan BPJS Ketenagakerjaan yang tercantum dalam FAQ tersebut.  FAQ yang diberikan tidak memuat informasi mengenai hal tersebut.\n",
      "\n",
      "--------------------------------------------------\n",
      "\n",
      "Jawaban Sebenarnya (dari dataset): Tidak ada jawaban.\n",
      "\n",
      "--------------------------------------------------\n",
      "\n",
      "-----\n",
      "Pertanyaan: Sejak tanggal berapa pembayaran iuran paling lambat ?\n"
     ]
    },
    {
     "name": "stderr",
     "output_type": "stream",
     "text": [
      "c:\\Users\\MyBook Hype AMD\\miniconda3\\envs\\h8_env\\lib\\site-packages\\langchain_google_genai\\chat_models.py:483: UserWarning: Convert_system_message_to_human will be deprecated!\n",
      "  warnings.warn(\"Convert_system_message_to_human will be deprecated!\")\n"
     ]
    },
    {
     "name": "stdout",
     "output_type": "stream",
     "text": [
      "Jawaban Chatbot:\n",
      "Pembayaran iuran paling lambat tanggal 10 (sepuluh) setiap bulan.\n",
      "\n",
      "--------------------------------------------------\n",
      "\n",
      "Jawaban Sebenarnya (dari dataset): Tidak ada jawaban.\n",
      "\n",
      "--------------------------------------------------\n",
      "\n",
      "-----\n",
      "Pertanyaan: Jika anggota baru di JMO, apakah harus mendaftar di MotionIme?\n"
     ]
    },
    {
     "name": "stderr",
     "output_type": "stream",
     "text": [
      "c:\\Users\\MyBook Hype AMD\\miniconda3\\envs\\h8_env\\lib\\site-packages\\langchain_google_genai\\chat_models.py:483: UserWarning: Convert_system_message_to_human will be deprecated!\n",
      "  warnings.warn(\"Convert_system_message_to_human will be deprecated!\")\n"
     ]
    },
    {
     "name": "stdout",
     "output_type": "stream",
     "text": [
      "Jawaban Chatbot:\n",
      "Mohon maaf, saya tidak memiliki informasi mengenai MotionIme. Saya hanya dapat menjawab pertanyaan seputar layanan BPJS Kesehatan dan BPJS Ketenagakerjaan, dan berdasarkan FAQ yang tersedia, hanya membahas tentang integrasi JMO dengan MotionPay.\n",
      "\n",
      "--------------------------------------------------\n",
      "\n",
      "Jawaban Sebenarnya (dari dataset): Tidak ada jawaban.\n",
      "\n",
      "--------------------------------------------------\n",
      "\n",
      "-----\n",
      "Pertanyaan: Apakah itu ShoopePay?\n"
     ]
    },
    {
     "name": "stderr",
     "output_type": "stream",
     "text": [
      "c:\\Users\\MyBook Hype AMD\\miniconda3\\envs\\h8_env\\lib\\site-packages\\langchain_google_genai\\chat_models.py:483: UserWarning: Convert_system_message_to_human will be deprecated!\n",
      "  warnings.warn(\"Convert_system_message_to_human will be deprecated!\")\n"
     ]
    },
    {
     "name": "stdout",
     "output_type": "stream",
     "text": [
      "Jawaban Chatbot:\n",
      "Mohon maaf, saya tidak memiliki informasi mengenai ShopeePay. Saya hanya dapat menjawab pertanyaan seputar layanan BPJS Kesehatan dan BPJS Ketenagakerjaan.\n",
      "\n",
      "--------------------------------------------------\n",
      "\n",
      "Jawaban Sebenarnya (dari dataset): Tidak ada jawaban.\n",
      "\n",
      "--------------------------------------------------\n",
      "\n",
      "-----\n",
      "Pertanyaan: Apa perbedaan program Jaminan Dari Tua (JHT) dan Jaminan Pensiun (JP)?\n"
     ]
    },
    {
     "name": "stderr",
     "output_type": "stream",
     "text": [
      "c:\\Users\\MyBook Hype AMD\\miniconda3\\envs\\h8_env\\lib\\site-packages\\langchain_google_genai\\chat_models.py:483: UserWarning: Convert_system_message_to_human will be deprecated!\n",
      "  warnings.warn(\"Convert_system_message_to_human will be deprecated!\")\n"
     ]
    },
    {
     "name": "stdout",
     "output_type": "stream",
     "text": [
      "Jawaban Chatbot:\n",
      "Mohon maaf, informasi yang Anda minta tidak tersedia secara lengkap dalam FAQ yang diberikan.  FAQ hanya menyebutkan adanya Tabel 10 yang menjelaskan perbedaan JHT dan JP, namun tabel tersebut tidak disertakan.  Oleh karena itu, saya tidak dapat menjelaskan perbedaan antara Jaminan Hari Tua (JHT) dan Jaminan Pensiun (JP).\n",
      "\n",
      "--------------------------------------------------\n",
      "\n",
      "Jawaban Sebenarnya (dari dataset): Tidak ada jawaban.\n",
      "\n",
      "--------------------------------------------------\n",
      "\n",
      "-----\n",
      "Pertanyaan: Gimana pembayaran iuran?\n"
     ]
    },
    {
     "name": "stderr",
     "output_type": "stream",
     "text": [
      "c:\\Users\\MyBook Hype AMD\\miniconda3\\envs\\h8_env\\lib\\site-packages\\langchain_google_genai\\chat_models.py:483: UserWarning: Convert_system_message_to_human will be deprecated!\n",
      "  warnings.warn(\"Convert_system_message_to_human will be deprecated!\")\n"
     ]
    },
    {
     "name": "stdout",
     "output_type": "stream",
     "text": [
      "Jawaban Chatbot:\n",
      "Mohon maaf, pertanyaan Anda kurang spesifik.  Untuk informasi mengenai pembayaran iuran, mohon jelaskan lebih detail jenis iuran yang Anda tanyakan (BPJS Kesehatan atau BPJS Ketenagakerjaan), dan apakah Anda ingin mengetahui cara pembayaran melalui autodebet,  melalui kanal pembayaran lain, atau informasi lainnya terkait pembayaran iuran.  Informasi yang lebih spesifik akan membantu saya memberikan jawaban yang akurat.\n",
      "\n",
      "--------------------------------------------------\n",
      "\n",
      "Jawaban Sebenarnya (dari dataset): Tidak ada jawaban.\n",
      "\n",
      "--------------------------------------------------\n",
      "\n",
      "-----\n",
      "Pertanyaan: Tanggal pembayaran iuran paling lambat ?\n"
     ]
    },
    {
     "name": "stderr",
     "output_type": "stream",
     "text": [
      "c:\\Users\\MyBook Hype AMD\\miniconda3\\envs\\h8_env\\lib\\site-packages\\langchain_google_genai\\chat_models.py:483: UserWarning: Convert_system_message_to_human will be deprecated!\n",
      "  warnings.warn(\"Convert_system_message_to_human will be deprecated!\")\n"
     ]
    },
    {
     "name": "stdout",
     "output_type": "stream",
     "text": [
      "Jawaban Chatbot:\n",
      "Pembayaran iuran paling lambat tanggal 10 (sepuluh) setiap bulan.\n",
      "\n",
      "--------------------------------------------------\n",
      "\n",
      "Jawaban Sebenarnya (dari dataset): Tidak ada jawaban.\n",
      "\n",
      "--------------------------------------------------\n",
      "\n",
      "-----\n",
      "Pertanyaan: Promo apa sajak yang tersedia pada aplikasi Jamsostek Mobile (JMO)?\n"
     ]
    },
    {
     "name": "stderr",
     "output_type": "stream",
     "text": [
      "c:\\Users\\MyBook Hype AMD\\miniconda3\\envs\\h8_env\\lib\\site-packages\\langchain_google_genai\\chat_models.py:483: UserWarning: Convert_system_message_to_human will be deprecated!\n",
      "  warnings.warn(\"Convert_system_message_to_human will be deprecated!\")\n"
     ]
    },
    {
     "name": "stdout",
     "output_type": "stream",
     "text": [
      "Jawaban Chatbot:\n",
      "Promo yang tersedia di aplikasi Jamsostek Mobile (JMO) merupakan produk dari berbagai merchant yang bekerjasama dengan BPJS Ketenagakerjaan.\n",
      "\n",
      "--------------------------------------------------\n",
      "\n",
      "Jawaban Sebenarnya (dari dataset): Tidak ada jawaban.\n",
      "\n",
      "--------------------------------------------------\n"
     ]
    }
   ],
   "source": [
    "# TEST CASE 3: Pertanyaan dalam konteks namun ada kesalahan penulisan\n",
    "print(\"\\n\\n UJI COBA 3: Pertanyaan Masih dalam Konteks namun terdapat kesalahan penulisan \")\n",
    "questions_context_typo = [\n",
    "    \"Aph itu BPJS Ketenagakerajaan?\",\n",
    "    \"Apa sajak program BPJS Ketenagakerjaan?\",\n",
    "    \"Siapakah yang dimaksud peserta BPJS Ketenagakerajaan?\",\n",
    "    \"Apakh yang dimaksud dengan PHK?\",\n",
    "    \"Apakah pegawai BHL (Burung Harian Lepas) dapat mengikuti program JKP?\",\n",
    "    \"Peserta BPU sudah melakukan pembayaran iuran namun transaksi pembayaran iuran belum merubah masa perlindungan/saldo JHT belum bertambah, apakah yang harus dilakukan?\", \n",
    "    \"Gimana jika lupa PIN EPS?\",\n",
    "    \"Apakah itu Perumahan Pekerja?\",\n",
    "    \"Dokumen apa sajakah persyaratan mengajukan JHT bagi PMI yang berpindah menjadi Warga Negara Asing?\",\n",
    "    \"Kapan BSU tahun 2025 dibagikan?\",\n",
    "    \"Dimana obat batuk pertama kali ditemukan\",\n",
    "    \"Jika flu sebaiknya minum obat herbal apa\",\n",
    "    \"Sopo peserta BPJS ketenagakerjaan\",\n",
    "    \"Sejak tanggal berapa pembayaran iuran paling lambat ?\",\n",
    "    \"Jika anggota baru di JMO, apakah harus mendaftar di MotionIme?\",\n",
    "    \"Apakah itu ShoopePay?\",\n",
    "    \"Apa perbedaan program Jaminan Dari Tua (JHT) dan Jaminan Pensiun (JP)?\",\n",
    "    \"Gimana pembayaran iuran?\",\n",
    "    \"Tanggal pembayaran iuran paling lambat ?\",\n",
    "    \"Promo apa sajak yang tersedia pada aplikasi Jamsostek Mobile (JMO)?\"\n",
    "    \n",
    "]\n",
    "\n",
    "for q in questions_context_typo:\n",
    "    print(f\"\\n{'-'*5}\")\n",
    "    print(f\"Pertanyaan: {q}\")\n",
    "    chatbot_answer = ask(q)\n",
    "    print(f\"Jawaban Chatbot:\\n{chatbot_answer}\")\n",
    "\n",
    "    \n",
    "    # Membandingkan dengan jawaban asli (jika ada pertanyaan yang sama persis)\n",
    "    actual_answer = answer_from_doc(q)\n",
    "    if actual_answer != \"Tidak ada jawaban yang cocok persis di dalam dataset.\":\n",
    "        print(f\"\\n{'-'*50}\")\n",
    "        print(f\"\\nJawaban Sebenarnya (dari dataset): {actual_answer}\")\n",
    "        print(f\"\\n{'-'*50}\")\n",
    "    \n",
    "    \n"
   ]
  },
  {
   "cell_type": "markdown",
   "id": "9a88b4e3",
   "metadata": {},
   "source": [
    "# Hasil Test case\n",
    "\n",
    "- ## Test Case 1\n",
    "\n",
    "Total pertanyaan sesuai dataset : 25\n",
    "\n",
    "Pertanyaan terjawab             : 18\n",
    "\n",
    "Pertanyaan tidak terjawab       : 7\n",
    "\n",
    "\n",
    "- ## Test Case 2\n",
    "\n",
    "Total pertanyaan diluar dataset : 25\n",
    "\n",
    "Pertanyaan terjawab             : 0\n",
    "\n",
    "Pertanyaan tidak terjawab       : 25\n",
    "\n",
    "- ## Test Case 3\n",
    "\n",
    "Total pertanyaan salah tidak baku/typo : 20\n",
    "\n",
    "Pertanyaan terjawab             : 11\n",
    "\n",
    "Pertanyaan tidak terjawab       : 9\n",
    "\n"
   ]
  },
  {
   "cell_type": "markdown",
   "id": "d4123188",
   "metadata": {},
   "source": [
    "# Kesimpulan\n",
    "\n",
    "Berdasarkan rangkaian test terhadap chatbot yang dibangun dengan model **gemini-1.5-flash-latest** dan berbasis pada databse FAQ resmi BPJS Ketenagakerjaan dan Kesehatan, dapat disimpulkan bahwa:\n",
    "\n",
    "1. **Kemampuan Kesesuaian**, chatbot mampu memberikan jawaban yang relevan dengan yang berada dalam dataset FAQ. Model memiliki pemahaman konteks yang baik sehingga jawaban cukup akurat. Pada test case 1, pertanyaan yang dirasa terlalu general seperti \"Apakah itu promo?\" tidak dapat dijawab walaupun terdapat dalam FAQ, hal ini dapat terjadi karena keterbatasan pada tahap pengambilan informasi(retrieval). Pertanyaan terlalu singkat dan general sehingga sistem kesulitan membedakan potongan data (chunk) mana yang paling relevan. Namun jika pertanyaan spesifik tentang BPJS Ketenagakerjaan dan Kesehatan, model mampu menjawan dengan cukup akurat.\n",
    "\n",
    "2. **Kemampuan Menjaga Batasan Konteks**, chatbot mampu menjaga batasan konteks project, hal ini dibuktikan dengan adanya tes yang dilakukan dengan memberi pertanyaan diluar konteks. Pada tes tersebut chatbot berhasil untuk tidak menjawab semua pertanyaan yang berada diluar konteks dari BPJS Ketenagakerjaan dan Kesehatan. Hal ini didapatkan dari keberhasilan dari prompt yang digunakan.\n",
    "\n",
    "3. **Kemampuan Membaca pertanyaan yang berada dalam konteks atau terdapat typo inputan user**, chatbot dapat menentukan cukup baik batasan mana pertanyaan yang berada dalam konteks BPJS ketenagakerjaan & Kesehatan. Pada pertanyaan yang masih berada dalam konteks atau terdapat beberapa kesalahan penulisan. Chatbot cukup baik dalam menganalisa pertanyaan yang berada dalam konteks karena dalam test case 3 dapat menjawab 6 dari 9 pertanyaan. Sedangkan pada typo yang dapat merubah suatu makna dalam suatu kata hasil tidak terlalu bagus, namun jika typo atau kesalahan input merupakan kata tanya chatbot mampu menjawab dengan tepat.\n",
    "\n",
    "**Model gemini-1.5-flash-latest**\n",
    "\n",
    "***Keunggulan***:\n",
    "- **Kecepatan dalam menjawab dari model ini sangat tinggi**, sehingga interaksi terasa alami dan dapat membantu dengan cepat dari user.\n",
    "\n",
    "- **Biaya Rendah**, secara signifikan biaya lebih murah jika dibandingkan model yang lebih besar seperti Gemini 1.5 pro. Harga yang lebih murah tersebut menjadi pilihan yang cocok digunakan untuk chatbot dengan volume interaksi tinggi dimana biaya operasional sangat penting.\n",
    "\n",
    "- **Model Ringan**, karena model ringan dan cepat cocok untuk lalu lintas percakapan yang tinggi dengan kebutuhan skalabilitas besar.\n",
    "\n",
    "***Kelemahan***:\n",
    "- **Akurasi lebih rendah jika dibandingkan versi Pro**, karena model dirasa \"ringan\" maka akurasi dari model tidak terlalu baik jika dibandingkan versi pro."
   ]
  }
 ],
 "metadata": {
  "kernelspec": {
   "display_name": "h8_env",
   "language": "python",
   "name": "python3"
  },
  "language_info": {
   "codemirror_mode": {
    "name": "ipython",
    "version": 3
   },
   "file_extension": ".py",
   "mimetype": "text/x-python",
   "name": "python",
   "nbconvert_exporter": "python",
   "pygments_lexer": "ipython3",
   "version": "3.9.23"
  }
 },
 "nbformat": 4,
 "nbformat_minor": 5
}
