{
 "cells": [
  {
   "cell_type": "code",
   "execution_count": 1,
   "id": "d7c492bf",
   "metadata": {},
   "outputs": [],
   "source": [
    "# Import Libraries\n",
    "from dotenv import load_dotenv\n",
    "import os\n",
    "from pymongo import MongoClient\n",
    "from langchain.text_splitter import RecursiveCharacterTextSplitter\n",
    "from langchain_google_genai import GoogleGenerativeAI\n",
    "from langchain_google_genai.embeddings import GoogleGenerativeAIEmbeddings\n",
    "from langchain_community.vectorstores import MongoDBAtlasVectorSearch\n",
    "from langchain_mongodb import MongoDBAtlasVectorSearch\n",
    "from langchain_community.document_loaders import CSVLoader"
   ]
  },
  {
   "cell_type": "code",
   "execution_count": 2,
   "id": "d0566a59",
   "metadata": {},
   "outputs": [],
   "source": [
    "load_dotenv()\n",
    "MONGODB_URI = os.getenv(\"MONGODB_URI\")\n",
    "GOOGLE_API_KEY = os.getenv(\"GOOGLE_API_KEY\")"
   ]
  },
  {
   "cell_type": "code",
   "execution_count": null,
   "id": "9a7d7cfc",
   "metadata": {},
   "outputs": [],
   "source": [
    "# Load CSV Dataset\n",
    "loader = CSVLoader(\n",
    "    file_path='../data/final_dataset_clean.csv',\n",
    "    content_columns=[\"answer\"],  \n",
    "    metadata_columns=[\"question\"], \n",
    "    csv_args={'delimiter': ','}\n",
    ")\n",
    "documents = loader.load()"
   ]
  },
  {
   "cell_type": "code",
   "execution_count": 4,
   "id": "90686d75",
   "metadata": {},
   "outputs": [
    {
     "name": "stdout",
     "output_type": "stream",
     "text": [
      "Chunks dari faq menjadi 1451 sub-documents.\n"
     ]
    }
   ],
   "source": [
    "# Split Into Chunks\n",
    "text_splitter = RecursiveCharacterTextSplitter(\n",
    "    chunk_size=500,\n",
    "    chunk_overlap=100,\n",
    "    length_function=len\n",
    ")\n",
    "chunks = text_splitter.split_documents(documents)\n",
    "print(f\"Chunks dari faq menjadi {len(chunks)} sub-documents.\")"
   ]
  },
  {
   "cell_type": "code",
   "execution_count": null,
   "id": "46162732",
   "metadata": {},
   "outputs": [],
   "source": [
    "embeddings = GoogleGenerativeAIEmbeddings(\n",
    "    model=\"models/embedding-001\", \n",
    "    google_api_key=GOOGLE_API_KEY,\n",
    ")"
   ]
  },
  {
   "cell_type": "code",
   "execution_count": 6,
   "id": "869b1c71",
   "metadata": {},
   "outputs": [],
   "source": [
    "# MongoDB Connection\n",
    "client = MongoClient(MONGODB_URI)\n",
    "collection = client['finalproject_db']['faq_tb']"
   ]
  },
  {
   "cell_type": "code",
   "execution_count": 7,
   "id": "ee332f11",
   "metadata": {},
   "outputs": [],
   "source": [
    "# Vector Store Configuration\n",
    "vector_store = MongoDBAtlasVectorSearch(\n",
    "    collection=collection,\n",
    "    embedding=embeddings,\n",
    "    index_name='vector_index',\n",
    ")"
   ]
  },
  {
   "cell_type": "code",
   "execution_count": 8,
   "id": "ab3c909f",
   "metadata": {},
   "outputs": [
    {
     "name": "stdout",
     "output_type": "stream",
     "text": [
      "Data berhasil diunggah ke MongoDB Atlas!\n",
      "Jumlah dokumen: 1075\n",
      "Jumlah chunks: 1451\n"
     ]
    }
   ],
   "source": [
    "# Vector Store Setup\n",
    "vector_store = MongoDBAtlasVectorSearch.from_documents(\n",
    "    documents=chunks,\n",
    "    embedding=embeddings,\n",
    "    collection=collection,\n",
    "    index_name=\"vector_index\"\n",
    ")\n",
    "\n",
    "print(\"Data berhasil diunggah ke MongoDB Atlas!\")\n",
    "print(f\"Jumlah dokumen: {len(documents)}\")\n",
    "print(f\"Jumlah chunks: {len(chunks)}\")\n",
    "\n"
   ]
  }
 ],
 "metadata": {
  "kernelspec": {
   "display_name": "h8_env",
   "language": "python",
   "name": "python3"
  },
  "language_info": {
   "codemirror_mode": {
    "name": "ipython",
    "version": 3
   },
   "file_extension": ".py",
   "mimetype": "text/x-python",
   "name": "python",
   "nbconvert_exporter": "python",
   "pygments_lexer": "ipython3",
   "version": "3.9.23"
  }
 },
 "nbformat": 4,
 "nbformat_minor": 5
}
